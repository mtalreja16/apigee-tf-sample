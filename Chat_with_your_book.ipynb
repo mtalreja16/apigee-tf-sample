{
  "cells": [
    {
      "cell_type": "markdown",
      "metadata": {
        "id": "iXDbibZcCYpT"
      },
      "source": [
        "# Chat with your book\n",
        "\n",
        "This colab will allow you to ask questions about the story and characters of a book (and maybe as a further step, chat with a chatbot about it)\n",
        "\n",
        "Enterprise Use Cases:\n",
        " - Customer is a Publisher that wants to allow readers to ask questions about the novels in their portfolio in order to determine whether they want to buy them or not\n",
        " - Customer is an author that wants to draw attention to their novels by making them queryable\n",
        " - Customer is an Agent who wants to learn more about the work of the authors they currently represent or are considering representing\n",
        " - Customer wants to provide a service to authors who want to determine if other novels are similar to theirs (finding \"comps\")\n",
        "\n",
        "Steps\n",
        "1) Load and chunk the Book as a PDF from Google Drive\n",
        "\n",
        " - Make chunks large and with a lot of overlap so that model has more context\n",
        "\n",
        "2) Initialize textbison LLM with langchain\n",
        "\n",
        "3) Generate embeddings from the Book\n",
        "\n",
        "4) Store the embeddings in a vector store in Matching Engine\n",
        "\n",
        "5) Use the RetrievalQA chain to send and answer questions about the book by executing the following:\n",
        "\n",
        " - 6) Prompt text-bison LLM “Extract the most relevant search terms from [QUESTION]”\n",
        "\n",
        " - 7) Send those search terms to the vector store and return the top n results as context\n",
        "\n",
        " - 8) Pass that context back to the LLM, giving it a prompt like “please summarize the following results into an answer for [QUESTION]”\n",
        "\n"
      ]
    },
    {
      "cell_type": "code",
      "execution_count": 1,
      "metadata": {
        "collapsed": true,
        "id": "jDcjzNIVCSTO",
        "jupyter": {
          "outputs_hidden": true
        },
        "outputId": "e480264c-3e7b-4e4a-c72e-a389fb57d746",
        "tags": [],
        "executionInfo": {
          "status": "ok",
          "timestamp": 1692596028568,
          "user_tz": 420,
          "elapsed": 109,
          "user": {
            "displayName": "Manoj Talreja",
            "userId": "18367115221663407153"
          }
        }
      },
      "outputs": [
        {
          "output_type": "stream",
          "name": "stdout",
          "text": [
            "/bin/sh: line 1: pip: command not found\n",
            "/bin/sh: line 1: pip: command not found\n",
            "/bin/sh: line 1: pip: command not found\n",
            "/bin/sh: line 1: pip: command not found\n",
            "/bin/sh: line 1: pip: command not found\n",
            "/bin/sh: line 1: pip: command not found\n"
          ]
        }
      ],
      "source": [
        "# Install Vertex AI LLM SDK# Install Vertex AI LLM SDK\n",
        "! pip install google-cloud-aiplatform==1.25.0\n",
        "\n",
        "! pip install \"shapely<2.0.0\"\n",
        "! pip install protobuf==3.20.3\n",
        "\n",
        "# Install langchain\n",
        "! pip install langchain\n",
        "\n",
        "# PDF loader\n",
        "! pip install pypdf\n",
        "\n",
        "# For default embeddings\n",
        "! pip install tensorflow_hub tensorflow_text"
      ]
    },
    {
      "cell_type": "code",
      "execution_count": null,
      "metadata": {
        "id": "_l_kNWdDj0_9",
        "outputId": "b8ea266f-4d42-4776-86a0-ca57cce08340"
      },
      "outputs": [
        {
          "name": "stdout",
          "output_type": "stream",
          "text": [
            "Vertex AI SDK version: 1.25.0\n",
            "LangChain version: 0.0.259\n"
          ]
        }
      ],
      "source": [
        "import json\n",
        "import textwrap\n",
        "# Utils\n",
        "import time\n",
        "import uuid\n",
        "from typing import List\n",
        "\n",
        "import numpy as np\n",
        "\n",
        "# Vertex AI\n",
        "from google.cloud import aiplatform\n",
        "import vertexai\n",
        "\n",
        "print(f\"Vertex AI SDK version: {aiplatform.__version__}\")\n",
        "\n",
        "# Langchain\n",
        "import langchain\n",
        "\n",
        "print(f\"LangChain version: {langchain.__version__}\")\n",
        "\n",
        "from langchain.chains import RetrievalQA\n",
        "from langchain.document_loaders import GCSDirectoryLoader\n",
        "from langchain.embeddings import VertexAIEmbeddings\n",
        "from langchain.llms import VertexAI\n",
        "from langchain.prompts import PromptTemplate\n",
        "from langchain.text_splitter import RecursiveCharacterTextSplitter\n",
        "from pydantic import BaseModel\n",
        "\n",
        "# Import custom Matching Engine packages\n",
        "from utils.matching_engine import MatchingEngine\n",
        "from utils.matching_engine_utils import MatchingEngineUtils"
      ]
    },
    {
      "cell_type": "code",
      "execution_count": null,
      "metadata": {
        "id": "BBeoZtOCDhXC"
      },
      "outputs": [],
      "source": [
        "PROJECT_ID = \"remy-sandbox\"  # @param {type:\"string\"}\n",
        "REGION = \"us-central1\"  # @param {type:\"string\"}\n",
        "STAGING_GCS_BUCKET = \"gs://my-bucket/llms\" # @param {type:\"string\"}"
      ]
    },
    {
      "cell_type": "code",
      "execution_count": null,
      "metadata": {
        "id": "5AMO1d04Dffu",
        "outputId": "6ac3176b-9622-49c2-c090-b7ec1184872c"
      },
      "outputs": [
        {
          "name": "stdout",
          "output_type": "stream",
          "text": [
            "LangChain version: 0.0.259\n",
            "Vertex AI SDK version: 1.25.0\n"
          ]
        }
      ],
      "source": [
        "import langchain\n",
        "print(f\"LangChain version: {langchain.__version__}\")\n",
        "\n",
        "from google.cloud import aiplatform\n",
        "print(f\"Vertex AI SDK version: {aiplatform.__version__}\")\n",
        "\n",
        "# Initialize Vertex AI SDK\n",
        "import vertexai\n",
        "vertexai.init(project=PROJECT_ID, location=REGION)"
      ]
    },
    {
      "cell_type": "code",
      "execution_count": null,
      "metadata": {
        "id": "fThfKAR7j0_-",
        "outputId": "20f16961-9ee9-4a28-e427-d452523cf93f"
      },
      "outputs": [
        {
          "name": "stdout",
          "output_type": "stream",
          "text": [
            "Requirement already satisfied: pypdf in /opt/conda/lib/python3.10/site-packages (3.15.0)\n"
          ]
        }
      ],
      "source": [
        "#! pip install pypdf"
      ]
    },
    {
      "cell_type": "markdown",
      "metadata": {
        "id": "OPufYqf4Dvx_"
      },
      "source": [
        "### Load and chunk the Book"
      ]
    },
    {
      "cell_type": "code",
      "execution_count": null,
      "metadata": {
        "id": "6jUqXZRGD6OH"
      },
      "outputs": [],
      "source": [
        "from langchain.document_loaders import PyPDFLoader\n",
        "import pypdf\n",
        "\n",
        "# Load PDF of Book\n",
        "loaders = [\n",
        "    PyPDFLoader(\"./The Council of Light WOTO.pdf\")\n",
        "]\n",
        "docs = []\n",
        "for loader in loaders:\n",
        "    docs.extend(loader.load())"
      ]
    },
    {
      "cell_type": "code",
      "execution_count": null,
      "metadata": {
        "id": "KHRh86kYj0_-",
        "outputId": "2db5da94-7964-408a-d50c-9687ae87c0ab"
      },
      "outputs": [
        {
          "ename": "NameError",
          "evalue": "name 'docs' is not defined",
          "output_type": "error",
          "traceback": [
            "\u001b[0;31m---------------------------------------------------------------------------\u001b[0m",
            "\u001b[0;31mNameError\u001b[0m                                 Traceback (most recent call last)",
            "Cell \u001b[0;32mIn[28], line 2\u001b[0m\n\u001b[1;32m      1\u001b[0m \u001b[38;5;66;03m# Add document name and source to the metadata\u001b[39;00m\n\u001b[0;32m----> 2\u001b[0m documents \u001b[38;5;241m=\u001b[39m \u001b[43mdocs\u001b[49m\n\u001b[1;32m      4\u001b[0m \u001b[38;5;28;01mfor\u001b[39;00m document \u001b[38;5;129;01min\u001b[39;00m documents:\n\u001b[1;32m      5\u001b[0m     doc_md \u001b[38;5;241m=\u001b[39m document\u001b[38;5;241m.\u001b[39mmetadata\n",
            "\u001b[0;31mNameError\u001b[0m: name 'docs' is not defined"
          ]
        }
      ],
      "source": [
        "# Add document name and source to the metadata\n",
        "documents = docs\n",
        "\n",
        "for document in documents:\n",
        "    doc_md = document.metadata\n",
        "    document_name = doc_md[\"source\"].split(\"/\")[-1]\n",
        "    # derive doc source from Document loader\n",
        "    doc_source_prefix = \"/\".join(GCS_BUCKET_DOCS.split(\"/\")[:3])\n",
        "    doc_source_suffix = \"/\".join(doc_md[\"source\"].split(\"/\")[4:-1])\n",
        "    source = f\"{doc_source_prefix}/{doc_source_suffix}\"\n",
        "    document.metadata = {\"source\": source, \"document_name\": document_name}\n",
        "\n",
        "print(f\"# of documents loaded (pre-chunking) = {len(documents)}\")"
      ]
    },
    {
      "cell_type": "code",
      "execution_count": null,
      "metadata": {
        "id": "LtyorcWeD8bC",
        "outputId": "11583eb0-805b-4efd-ce4f-0c0e074191bc"
      },
      "outputs": [
        {
          "name": "stdout",
          "output_type": "stream",
          "text": [
            "# of documents = 554\n"
          ]
        }
      ],
      "source": [
        "# split the documents into chunks\n",
        "# documentation: https://js.langchain.com/docs/modules/indexes/text_splitters/\n",
        "from langchain.text_splitter import RecursiveCharacterTextSplitter\n",
        "\n",
        "text_splitter = RecursiveCharacterTextSplitter(chunk_size=2000, chunk_overlap=300)\n",
        "doc_splits = text_splitter.split_documents(docs)\n",
        "\n",
        "for idx, split in enumerate(doc_splits):\n",
        "    split.metadata[\"chunk\"] = idx\n",
        "\n",
        "print(f\"# of documents = {len(doc_splits)}\")"
      ]
    },
    {
      "cell_type": "markdown",
      "metadata": {
        "id": "3wMpiOrYGEi8"
      },
      "source": [
        "Create functions that will be used later when generating the embeddings from the book\n"
      ]
    },
    {
      "cell_type": "code",
      "execution_count": null,
      "metadata": {
        "id": "9wyQ4I9vF6_s"
      },
      "outputs": [],
      "source": [
        "# Utility functions for Embeddings API with rate limiting\n",
        "def rate_limit(max_per_minute):\n",
        "    period = 60 / max_per_minute\n",
        "    print(\"Waiting\")\n",
        "    while True:\n",
        "        before = time.time()\n",
        "        yield\n",
        "        after = time.time()\n",
        "        elapsed = after - before\n",
        "        sleep_time = max(0, period - elapsed)\n",
        "        if sleep_time > 0:\n",
        "            print(\".\", end=\"\")\n",
        "            time.sleep(sleep_time)"
      ]
    },
    {
      "cell_type": "code",
      "execution_count": null,
      "metadata": {
        "id": "MS3ybdZhGDCl"
      },
      "outputs": [],
      "source": [
        "class CustomVertexAIEmbeddings(VertexAIEmbeddings, BaseModel):\n",
        "    requests_per_minute: int\n",
        "    num_instances_per_batch: int\n",
        "\n",
        "    # Overriding embed_documents method\n",
        "    def embed_documents(self, texts: List[str]):\n",
        "        limiter = rate_limit(self.requests_per_minute)\n",
        "        results = []\n",
        "        docs = list(texts)\n",
        "\n",
        "        while docs:\n",
        "            # Working in batches because the API accepts maximum 5\n",
        "            # documents per request to get embeddings\n",
        "            head, docs = (\n",
        "                docs[: self.num_instances_per_batch],\n",
        "                docs[self.num_instances_per_batch :],\n",
        "            )\n",
        "            chunk = self.client.get_embeddings(head)\n",
        "            results.extend(chunk)\n",
        "            next(limiter)\n",
        "\n",
        "        return [r.values for r in results]"
      ]
    },
    {
      "cell_type": "markdown",
      "metadata": {
        "id": "VOXOkj7hGZp7"
      },
      "source": [
        "### Initialize Langchain Models"
      ]
    },
    {
      "cell_type": "code",
      "execution_count": null,
      "metadata": {
        "id": "AtNJrWkrGYd4"
      },
      "outputs": [],
      "source": [
        "# Text model instance integrated with langChain\n",
        "llm = VertexAI(\n",
        "    model_name=\"text-bison@001\",\n",
        "    max_output_tokens=1024,\n",
        "    temperature=0.2,\n",
        "    top_p=0.8,\n",
        "    top_k=40,\n",
        "    verbose=True,\n",
        ")\n",
        "\n",
        "# Embeddings API integrated with langChain\n",
        "EMBEDDING_QPM = 100\n",
        "EMBEDDING_NUM_BATCH = 5\n",
        "embeddings = CustomVertexAIEmbeddings(\n",
        "    requests_per_minute=EMBEDDING_QPM,\n",
        "    num_instances_per_batch=EMBEDDING_NUM_BATCH,\n",
        ")"
      ]
    },
    {
      "cell_type": "markdown",
      "metadata": {
        "id": "BJLKcjrR86yc"
      },
      "source": [
        "Initialize the Matching Engine Index and Deploy it to an endpoint so that we can send it the embeddings\n"
      ]
    },
    {
      "cell_type": "code",
      "execution_count": null,
      "metadata": {
        "id": "HjHXQaKjGLgb"
      },
      "outputs": [],
      "source": [
        "ME_REGION = \"us-central1\"\n",
        "ME_INDEX_NAME = f\"{PROJECT_ID}-me-index\"  # @param {type:\"string\"}\n",
        "ME_EMBEDDING_DIR = f\"{PROJECT_ID}-me-bucket\"  # @param {type:\"string\"}\n",
        "ME_DIMENSIONS = 768  # when using Vertex PaLM Embedding\n",
        "\n"
      ]
    },
    {
      "cell_type": "code",
      "execution_count": null,
      "metadata": {
        "id": "AGjPQJiUGwn3",
        "outputId": "b13c420f-ea7b-4c85-ef97-3d3656b5b22d"
      },
      "outputs": [
        {
          "name": "stdout",
          "output_type": "stream",
          "text": [
            "Creating gs://remy-sandbox-me-bucket/...\n"
          ]
        }
      ],
      "source": [
        "! gsutil mb -l us-central1 gs://$ME_EMBEDDING_DIR"
      ]
    },
    {
      "cell_type": "markdown",
      "metadata": {
        "id": "bhJ3a0KYG3JY"
      },
      "source": [
        "Create Dummy embeddings in order to initialize the index"
      ]
    },
    {
      "cell_type": "code",
      "execution_count": null,
      "metadata": {
        "id": "zumNtp8UG0ev",
        "outputId": "8633a55e-1910-4b90-96db-11f3e8c9768c"
      },
      "outputs": [
        {
          "name": "stdout",
          "output_type": "stream",
          "text": [
            "Copying file://embeddings_0.json [Content-Type=application/json]...\n",
            "/ [1 files][  3.8 KiB/  3.8 KiB]                                                \n",
            "Operation completed over 1 objects/3.8 KiB.                                      \n"
          ]
        }
      ],
      "source": [
        "# dummy embedding\n",
        "init_embedding = {\"id\": str(uuid.uuid4()), \"embedding\": list(np.zeros(ME_DIMENSIONS))}\n",
        "\n",
        "# dump embedding to a local file\n",
        "with open(\"embeddings_0.json\", \"w\") as f:\n",
        "    json.dump(init_embedding, f)\n",
        "\n",
        "# write embedding to Cloud Storage\n",
        "! gsutil cp embeddings_0.json gs://remy-sandbox-me-bucket/init_index/embeddings_0.json\n",
        "\n"
      ]
    },
    {
      "cell_type": "code",
      "execution_count": null,
      "metadata": {
        "id": "PUtGD6fJ7vLn",
        "outputId": "e60b1ccb-aeea-4634-a3c3-da0cd6394420"
      },
      "outputs": [
        {
          "name": "stderr",
          "output_type": "stream",
          "text": [
            "INFO:root:Index remy-sandbox-me-index already exists with id projects/811582753906/locations/us-central1/indexes/2861395448403329024\n"
          ]
        },
        {
          "name": "stdout",
          "output_type": "stream",
          "text": [
            "projects/811582753906/locations/us-central1/indexes/2861395448403329024\n"
          ]
        }
      ],
      "source": [
        "#Create Index for streaming updates\n",
        "\n",
        "mengine = MatchingEngineUtils(PROJECT_ID, ME_REGION, ME_INDEX_NAME)\n",
        "\n",
        "index = mengine.create_index(\n",
        "    embedding_gcs_uri=f\"gs://{ME_EMBEDDING_DIR}/init_index\",\n",
        "    dimensions=ME_DIMENSIONS,\n",
        "    index_update_method=\"streaming\",\n",
        "    index_algorithm=\"tree-ah\",\n",
        ")\n",
        "if index:\n",
        "    print(index.name)"
      ]
    },
    {
      "cell_type": "code",
      "execution_count": null,
      "metadata": {
        "id": "m__uBAfm9Lq7",
        "outputId": "1d5c8aee-6125-49c4-8ad5-b9cf500a2635"
      },
      "outputs": [
        {
          "name": "stdout",
          "output_type": "stream",
          "text": [
            "ME_INDEX_ID=projects/811582753906/locations/us-central1/indexes/2861395448403329024\n",
            "ME_INDEX_ENDPOINT_ID=projects/811582753906/locations/us-central1/indexEndpoints/6846518168672796672\n"
          ]
        }
      ],
      "source": [
        "#Configure matching engine as vector store\n",
        "\n",
        "#get ME endpoint ID\n",
        "ME_INDEX_ID, ME_INDEX_ENDPOINT_ID = mengine.get_index_and_endpoint()\n",
        "print(f\"ME_INDEX_ID={ME_INDEX_ID}\")\n",
        "print(f\"ME_INDEX_ENDPOINT_ID={ME_INDEX_ENDPOINT_ID}\")"
      ]
    },
    {
      "cell_type": "code",
      "execution_count": null,
      "metadata": {
        "id": "NDxDvCI89tyQ"
      },
      "outputs": [],
      "source": [
        "# initialize vector store with the text embeddings model\n",
        "me = MatchingEngine.from_components(\n",
        "    project_id=PROJECT_ID,\n",
        "    region=ME_REGION,\n",
        "    gcs_bucket_name=f'gs://{ME_EMBEDDING_DIR}',\n",
        "    embedding=embeddings,#calling the text embeddings API\n",
        "    index_id=ME_INDEX_ID,\n",
        "    endpoint_id=ME_INDEX_ENDPOINT_ID,\n",
        ")"
      ]
    },
    {
      "cell_type": "code",
      "execution_count": null,
      "metadata": {
        "id": "I6v2HvE-j1AA",
        "outputId": "62b8b6b9-b33d-433f-a286-6602607a23a7"
      },
      "outputs": [
        {
          "name": "stdout",
          "output_type": "stream",
          "text": [
            "remy-sandbox-me-bucket\n"
          ]
        }
      ],
      "source": [
        "print(ME_EMBEDDING_DIR)"
      ]
    },
    {
      "cell_type": "code",
      "execution_count": null,
      "metadata": {
        "id": "vg92nExz73wZ",
        "outputId": "f18276af-03b7-45b6-851b-33de4ad2b85f"
      },
      "outputs": [
        {
          "name": "stderr",
          "output_type": "stream",
          "text": [
            "INFO:root:Index endpoint remy-sandbox-me-index-endpoint does not exists. Creating index endpoint...\n",
            "INFO:root:Deploying index to endpoint with long running operation projects/811582753906/locations/us-central1/indexEndpoints/6846518168672796672/operations/6568716316713156608\n",
            "INFO:root:Poll the operation to create index endpoint ...\n",
            "INFO:root:Index endpoint remy-sandbox-me-index-endpoint created with resource name as projects/811582753906/locations/us-central1/indexEndpoints/6846518168672796672 and endpoint domain name as \n",
            "INFO:root:Deploying index with request = {'id': 'remy_sandbox_me_index_20230809205125', 'display_name': 'remy_sandbox_me_index_20230809205125', 'index': 'projects/811582753906/locations/us-central1/indexes/2861395448403329024', 'dedicated_resources': {'machine_spec': {'machine_type': 'e2-standard-2'}, 'min_replica_count': 2, 'max_replica_count': 10}}\n"
          ]
        },
        {
          "name": "stdout",
          "output_type": "stream",
          "text": [
            "."
          ]
        },
        {
          "name": "stderr",
          "output_type": "stream",
          "text": [
            "INFO:root:Poll the operation to deploy index ...\n"
          ]
        },
        {
          "name": "stdout",
          "output_type": "stream",
          "text": [
            "..............."
          ]
        },
        {
          "name": "stderr",
          "output_type": "stream",
          "text": [
            "INFO:root:Deployed index remy-sandbox-me-index to endpoint remy-sandbox-me-index-endpoint\n"
          ]
        },
        {
          "name": "stdout",
          "output_type": "stream",
          "text": [
            ".Index endpoint resource name: projects/811582753906/locations/us-central1/indexEndpoints/6846518168672796672\n",
            "Index endpoint public domain name: \n",
            "Deployed indexes on the index endpoint:\n"
          ]
        }
      ],
      "source": [
        "#Deploy Index to Matching Engine\n",
        "\n",
        "index_endpoint = mengine.deploy_index()\n",
        "if index_endpoint:\n",
        "    print(f\"Index endpoint resource name: {index_endpoint.name}\")\n",
        "    print(\n",
        "        f\"Index endpoint public domain name: {index_endpoint.public_endpoint_domain_name}\"\n",
        "    )\n",
        "    print(\"Deployed indexes on the index endpoint:\")\n",
        "    for d in index_endpoint.deployed_indexes:\n",
        "        print(f\"    {d.id}\")"
      ]
    },
    {
      "cell_type": "markdown",
      "metadata": {
        "id": "Ut_Z1L8rG_f0"
      },
      "source": [
        "##generate embeddings and load to store\n"
      ]
    },
    {
      "cell_type": "code",
      "execution_count": null,
      "metadata": {
        "id": "Yymh9bM9j1AA",
        "outputId": "7b30fd70-9f60-4054-de00-2c644cdf1840"
      },
      "outputs": [
        {
          "data": {
            "text/plain": [
              "{'source': 'file//Council_of_Light', 'document_name': '', 'chunk': 0}"
            ]
          },
          "execution_count": 59,
          "metadata": {},
          "output_type": "execute_result"
        }
      ],
      "source": [
        "doc_splits[0].metadata"
      ]
    },
    {
      "cell_type": "code",
      "execution_count": null,
      "metadata": {
        "id": "XnKeC5v5j1AA",
        "outputId": "8964768b-e7ee-4d3d-b8bb-793b17e9bd80"
      },
      "outputs": [
        {
          "name": "stdout",
          "output_type": "stream",
          "text": [
            "# of documents loaded (pre-chunking) = 314\n",
            "Council_of_Light\n",
            "file//Council_of_Light\n"
          ]
        }
      ],
      "source": [
        "# Add document name and source to the metadata\n",
        "for document in documents:\n",
        "    doc_md = document.metadata\n",
        "    document_name = doc_md[\"source\"].split(\"/\")[-1]\n",
        "    # derive doc source from Document loader\n",
        "    doc_source_prefix = \"file\"\n",
        "    doc_source_suffix = \"/Council_of_Light\"\n",
        "    source = f\"{doc_source_prefix}/{doc_source_suffix}\"\n",
        "    document.metadata = {\"source\": source, \"document_name\": document_name}\n",
        "\n",
        "print(f\"# of documents loaded (pre-chunking) = {len(documents)}\")\n",
        "print(document_name)\n",
        "print(source)"
      ]
    },
    {
      "cell_type": "code",
      "execution_count": null,
      "metadata": {
        "id": "qZMuWlL1j1AB",
        "outputId": "c0760393-58ae-4728-feff-3d3d276d6af0"
      },
      "outputs": [
        {
          "ename": "AttributeError",
          "evalue": "'list' object has no attribute 'metadata'",
          "output_type": "error",
          "traceback": [
            "\u001b[0;31m---------------------------------------------------------------------------\u001b[0m",
            "\u001b[0;31mAttributeError\u001b[0m                            Traceback (most recent call last)",
            "Cell \u001b[0;32mIn[51], line 1\u001b[0m\n\u001b[0;32m----> 1\u001b[0m \u001b[38;5;28mprint\u001b[39m(\u001b[43mdoc_splits\u001b[49m\u001b[38;5;241;43m.\u001b[39;49m\u001b[43mmetadata\u001b[49m[\u001b[38;5;124m\"\u001b[39m\u001b[38;5;124mchunk\u001b[39m\u001b[38;5;124m\"\u001b[39m])\n",
            "\u001b[0;31mAttributeError\u001b[0m: 'list' object has no attribute 'metadata'"
          ]
        }
      ],
      "source": [
        "#print(doc_splits.metadata[\"chunk\"])\n"
      ]
    },
    {
      "cell_type": "code",
      "execution_count": null,
      "metadata": {
        "id": "gT_SX6_Aj1AB"
      },
      "outputs": [],
      "source": [
        "# Store docs as embeddings in Matching Engine index\n",
        "# It may take a while since API is rate limited\n",
        "texts = [doc.page_content for doc in doc_splits]\n",
        "metadatas = [\n",
        "    [\n",
        "        {\"namespace\": \"source\", \"allow_list\": [doc.metadata[\"source\"]]},\n",
        "        {\"namespace\": \"document_name\", \"allow_list\": \"Council of Light\"},\n",
        "        {\"namespace\": \"chunk\", \"allow_list\": [str(doc.metadata[\"chunk\"])]},\n",
        "    ]\n",
        "    for doc in doc_splits\n",
        "]"
      ]
    },
    {
      "cell_type": "markdown",
      "metadata": {
        "id": "oMDb_z_fD709"
      },
      "source": [
        "### Add embeddings to the vector store"
      ]
    },
    {
      "cell_type": "code",
      "execution_count": null,
      "metadata": {
        "id": "I6a8QUL1j1AB",
        "outputId": "7f9f8420-e7c1-4a36-c8bd-1d38211dc7b9"
      },
      "outputs": [
        {
          "name": "stdout",
          "output_type": "stream",
          "text": [
            "Waiting\n",
            "............................................................................................................."
          ]
        },
        {
          "name": "stderr",
          "output_type": "stream",
          "text": [
            "INFO:root:Indexed 554 documents to Matching Engine.\n"
          ]
        }
      ],
      "source": [
        "\n",
        "doc_ids = me.add_texts(texts=texts, metadatas=metadatas)"
      ]
    },
    {
      "cell_type": "code",
      "execution_count": null,
      "metadata": {
        "id": "f4TDSH6Pj1AB",
        "outputId": "06d396f2-885b-4bba-edd5-c9bd04bed276"
      },
      "outputs": [
        {
          "name": "stdout",
          "output_type": "stream",
          "text": [
            "Waiting\n"
          ]
        },
        {
          "data": {
            "text/plain": [
              "[Document(page_content='“Hmm\\nok,\\nwill\\nhave\\nto\\ntweak\\nthat\\na\\nbit.\\nHumans\\ncan’t\\ngo\\nvery\\nlong\\nwithout\\nblinking\\nbefore\\nyour\\neyes\\nstart\\nto\\nget\\nsuuuuuper\\ndry.\\nLike\\ndeserts,\\ncrying\\nout\\nfor\\neven\\na\\ndrop\\nof\\nwater .\\nCraving\\njust\\none\\nblink…”\\nAlfred\\ngrowled\\nthrough\\nhis\\nteeth.\\nBen\\nsmiled\\nand\\nturned\\nback\\nto\\nLucia.\\n“Pretty\\ncool\\nright?\\nImmobilization\\nbeams,\\nthey\\ntarget\\nthe\\nspine\\nand\\nrender\\nthe\\nvictim\\ntotally ,\\nwell,\\nimmobile.\\nNot\\ncompletely\\nimmoble,\\nof\\ncourse,\\nyou\\nstill\\nneed\\nyour\\nlungs\\nfor\\nbreathing\\nand\\ntongue\\nfor\\nswallowing\\nand\\nheart\\nfor\\nblood\\nstuff.\\nI\\nhave\\nto\\nadmit,\\nit’s\\ntaken\\na\\nfew\\niterations\\nto\\nget\\nthat\\npart\\ncompletely\\nright.\\nHeh…”\\nBen\\nran\\nhis\\nhand\\nthrough\\nhis\\nhair.\\n“Anyways,\\nI\\nhad\\nMarim\\nset\\nup\\nthe\\ngeneration\\ndevices\\nwhen\\nwe\\nfirst\\nwalked\\nin.”\\nBen\\nbent\\nover\\nand\\npicked\\nup\\na\\nsmall\\ncircular\\ndisk\\noff\\nof\\nthe\\nfloor .\\n“I\\nexpected\\na\\ncouple\\nmore\\nboonies\\nto\\nshow\\nup\\nso\\nthere’ s\\na\\nfew\\nleft\\nover.”\\nHe\\npointed\\nto\\nthe\\nceiling\\nof\\nthe\\nbar\\nwhere\\nthere\\nwere\\nfive\\ndisks\\nin\\nan\\nalmost\\nstraight\\nline\\nto\\nmatch\\nthe\\nones\\non\\nthe\\nfloor .\\n“Nice\\naim\\nMarim.”\\nMarim\\nnodded\\nagain.\\nBen\\nturned\\nback\\nto\\nAlfred\\nand\\nsighed.\\n“Really\\nwas\\nexpecting\\nmore\\nof\\na\\nfight.\\nShame.”\\n“Fi’\\nne\\n‘en,\\nyou\\n‘ucking\\ncud.”\\n“Fight\\nyou?\\nWhat,\\nlike\\nin\\na\\njudo\\nring?”\\n“Ri\\n‘ere.\\nLes\\n‘ucking\\nfi’.”\\n“I\\ndon’t\\nget\\nit.\\nYou\\nwant\\nme\\nto\\nlet\\nyou\\ngo,\\nand\\nthen\\nlet\\nyou\\nshoot\\nme?”\\n“No\\ngunsh.\\nJus’\\nhansh.”\\nBen\\nlooked\\nover\\nto\\nMarim\\nwith\\nan\\nutterly\\nconfused\\nlook\\non\\nhis\\nface.\\n“Am\\nI\\nhearing\\nhim\\nright?”\\nMarim\\nexplained.\\n“He\\nwants\\nto\\nengage\\nin\\nhand\\nto\\nhand\\ncombat.\\nIt\\nis\\nan\\nancient\\npractice,\\ncentered\\naround\\npersonal\\nhonor .\\nBy\\nremoving\\nany\\nweapons\\nor\\nhandicaps,\\nyou\\nare\\nbringing\\nbalance\\nto\\nthe\\ndisagreement,\\nallowing\\nthe\\nuniverse\\nto\\nreveal\\nwho\\nis\\ntruly\\nthe\\nright\\none.”\\n“So\\nthe\\nuniverse\\nis\\ngoing\\nto\\nreveal\\nthat\\none\\nof\\nus\\nis\\nright\\nby\\nbeating\\nthe\\nother\\none\\nto\\ndeath?\\nWhat\\nabout\\nnot\\nusing\\nguns\\nmakes\\nit\\na\\nfair\\nfight?\\nWhat\\nif\\nhe’s\\nhad\\nyears\\nof\\npunching\\ntraining?”\\n“As\\nI\\nsaid,\\nit\\nis\\nan\\nancient\\npractice.”\\n“Weird.\\nI’ve\\nseen\\nsimilar\\npractices\\non\\ndistant\\nworlds\\nbut\\nwasn’ t\\nexpecting\\nto\\nget\\nchallenged\\nlike\\nthis', metadata={'source': 'file//Council_of_Light', 'document_name': 'C', 'chunk': '263', 'score': 0.749878466129303}),\n",
              " Document(page_content='that\\none\\nof\\nus\\nis\\nright\\nby\\nbeating\\nthe\\nother\\none\\nto\\ndeath?\\nWhat\\nabout\\nnot\\nusing\\nguns\\nmakes\\nit\\na\\nfair\\nfight?\\nWhat\\nif\\nhe’s\\nhad\\nyears\\nof\\npunching\\ntraining?”\\n“As\\nI\\nsaid,\\nit\\nis\\nan\\nancient\\npractice.”\\n“Weird.\\nI’ve\\nseen\\nsimilar\\npractices\\non\\ndistant\\nworlds\\nbut\\nwasn’ t\\nexpecting\\nto\\nget\\nchallenged\\nlike\\nthis\\nhere.\\nHmm.”\\nBen\\ntapped\\nAlfred\\non\\nthe\\nforehead\\na\\nfew\\ntimes.\\n“Maybe\\nwe\\ncan\\nget\\nsome\\nfun\\nout\\nof\\nyou\\nyet.“\\nBen\\nstarted\\nfleecing\\nAlfred’ s\\nbody ,\\nremoving\\nguns\\nand\\nsticks\\nand\\nanything\\nthat\\nlooked\\nremotely\\nlike\\na\\nweapon.\\n“Ben,\\nthis\\nis\\nnot\\na\\ngood\\nidea,”\\nDax\\nsaid.\\n“We\\nhave\\nhim,\\nlet’s\\nget\\nthe\\n300k\\nand\\nbe\\ndone\\nwith\\nit.”\\n“Na,\\nna,\\nna.\\nThis\\nguy\\ninsulted\\nmy,\\nmy\\nhonor!”\\nBen\\ncouldn’ t\\nhelp\\nbut\\nlet\\nout\\na\\nlittle\\nlaugh.\\n“I\\nhate\\nto\\nbe\\nthe\\none\\nto\\nbring\\nthis\\nup,\\nbut\\nyou\\nare\\nterrible\\nat\\nhand\\nto\\nhand\\ncombat,”\\nDax\\nsaid.\\n“Marim,\\nback\\nme\\nup\\nhere.”', metadata={'source': 'file//Council_of_Light', 'document_name': 'C', 'chunk': '264', 'score': 0.7278212308883667})]"
            ]
          },
          "execution_count": 17,
          "metadata": {},
          "output_type": "execute_result"
        }
      ],
      "source": [
        "# Test whether search from vector store is working\n",
        "me.similarity_search(\"Ben fights Silen\", k=2)"
      ]
    },
    {
      "cell_type": "code",
      "execution_count": null,
      "metadata": {
        "id": "YwrVqoEUj1AB",
        "outputId": "07e82aac-269e-45f2-da73-ce3f4ef96100"
      },
      "outputs": [
        {
          "name": "stdout",
          "output_type": "stream",
          "text": [
            "Waiting\n"
          ]
        },
        {
          "data": {
            "text/plain": [
              "[Document(page_content='attending\\nthe\\nLabor\\nGala,\\nthereby\\nintroducing\\nher\\nto\\nthe\\nExecutive,\\nthereby\\ncausing\\nhim\\nto\\nmiss\\nthe\\nmeeting\\nthat\\nour\\nclient\\nneeds\\nhim\\nto\\nmiss,\\nis\\na\\ndenominator\\nof\\n1,000.\\nA\\nday\\nof\\nsimulation\\nadds\\n1\\npoint\\nto\\nour\\nnumerator ,\\nstill\\nkeeping\\nus\\nwell\\nbelow\\nthe\\nideal\\nratio\\nof\\n1:7.”\\n“That’ s\\na\\npretty\\nsimple\\ncalculation,\\nfor\\nyou.”\\n“Well\\nI\\ndumbed\\nit\\ndown\\ntremendously .\\nIt’s\\nreally\\nmore\\nof\\na\\nSunk\\nCost\\nLinear\\nRegression.\\nBut\\nI\\nalso\\nhave\\na\\nSunk\\nCost\\nRatio\\nwhen\\nit\\ncomes\\nto\\nexplaining\\nthings\\nto\\nyou,\\nand\\nthe\\ndenominator\\nis\\npretty\\nlow\\non\\nthat\\none.”\\n“Does\\nmy\\nmental\\nanguish\\nfactor\\ninto\\neither\\nof\\nthose\\nequations?”\\n“Mine\\ndoes.”\\nShe\\nwinked\\nat\\nme\\nand\\ntapped\\nher\\nCom-Palm,\\nbeginning\\nthe\\nsimulation.\\nI\\nsighed\\nand\\ntook\\nmy\\nspot\\nin\\nthe\\ncorner\\nof\\nthe\\nspa\\nroom.\\nSuddenly ,\\nthe\\nroom\\nfroze\\nagain.\\n“You\\nsee\\nwhat\\nI\\njust\\ndid\\nthere?”\\nArtemis\\nasked.\\nI\\nlooked\\naround\\nthe\\nroom.\\nBrown,\\nArgrurian\\nwalls,\\nmossy\\nground,\\nnaked\\nlady\\nin\\nthe\\ncorner…\\n“I\\ndon’t\\nsee\\nanything\\ndifferent,”\\nI\\nsaid\\nwith\\na\\nshrug.\\n“Not\\nin\\nthe\\nroom,\\nmooky\\n,\\nwhat\\ndid\\nI\\njust\\ndo?”\\nI\\nsuppressed\\nthe\\nurge\\nto\\nroll\\nmy\\neyes;\\nArtemis\\nhated\\nwhen\\nI\\ndid\\nthat.\\n“You\\nrestarted\\nthe\\nsimulation,”\\nI\\nanswered,\\nmy\\nvoice\\nfake\\nechoing\\nagainst\\nthe\\nfake\\nwalls.\\n“But\\nhow?”\\n“With\\nyour\\nCom-palm,\\nof\\ncourse.”\\n“Yes\\nff\\ncourse,\\nwith\\nmy\\nCom-palm.\\nBy\\ntapping\\nit.\\nI\\ndidn’ t\\nhave\\nto\\ntell\\nit\\nwhat\\nto\\ndo,”\\nshe\\nsaid,\\nholding\\nout\\nthe\\nunderside\\nof\\nher\\narm\\nto\\nexpose\\nthe\\ncircular\\ndisc\\nthat\\nwas\\nembedded\\nthere.\\n“That’ s\\nhow\\nall\\ncom-palms\\nwork,\\nyou\\ndon’t\\nhave\\nto\\ntell\\nthem\\nwhat\\nto\\ndo,\\nthey\\njust\\nknow .\\nYours\\nisn’t\\nspecial,”\\nI\\nsaid.\\n“Of\\ncourse\\nit\\nisn’t\\nspecial,\\nthe\\nfact\\nthat\\nthis\\nmanufactured\\ndisc\\nin\\nmy\\narm\\ncan\\npredict\\nwhat\\nI’m\\nabout\\nto\\ndo.\\nIt\\nwas\\ninvented\\nmillenia\\nago\\nby\\nthe\\ngreat\\nDiscus\\nAI,\\nwho\\nare\\nwe\\nto\\nquestion\\nhow\\nit\\ncan\\ndo\\nthat,”\\nshe\\nsaid,\\nlooking\\nme\\nhard\\nin\\nthe\\neyes.\\nI\\nbegan\\nto\\nsee\\nher\\npoint.\\nI\\ndon’t\\nknow\\nhow\\nI\\nhad\\nnever\\nmade\\nthe\\nconnection\\nbefore.\\n“Its…psyche-mapping\\nyou.\\nThey\\nall\\nare,\\nall\\nthis\\ntime.”\\nI\\nturned\\nover\\nmy\\nown\\nleft\\narm\\nto\\nlook\\nat\\nthe\\nsilver\\ncircle\\nin\\nmy\\nwrist.\\n“These\\nthings\\nthat\\nI', metadata={'source': 'file//Council_of_Light', 'document_name': 'C', 'chunk': '74', 'score': 0.6904069185256958}),\n",
              " Document(page_content='and\\nis\\ntherefore\\nvery\\nbusy,\\nand\\nvery\\nrich.\\nBut\\nwe\\nare\\nnot\\nafter\\nher\\nmoney .\\nWhat\\nwe\\nwant\\nis\\nher\\ncom-palm.\\nSpecifically ,\\nthe\\ninformation\\nshe\\nhas\\non\\nthe\\nupcoming\\nSummer\\nSerial\\nlineup,\\nwhich\\nis\\non\\nher\\ncom-palm.\\nYou\\'d\\nbe\\nsurprised\\nhow\\nmuch\\ncertain\\npeople\\nare\\nwilling\\nto\\npay\\nfor\\nthat\\ninformation,\\nlittle\\nAllison.\"\\nShe\\nruffled\\nmy\\nhair,\\nlike\\nan\\nolder\\nbrother\\nwould\\ndo.\\n\"Here\\nis\\nwhat\\nis\\ngoing\\nto\\nhappen.\\nYou\\'re\\ngoing\\nto\\nstand\\nat\\nthe\\ncorner\\nof\\na\\nbakery\\nthat\\nJunet\\nvisits\\njust\\nbefore\\nflashing\\nhome.\\nYou\\'re\\ngoing\\nto\\ndo\\nwhat\\nyou\\ndo\\nbest,\\nlook\\npathetic\\nand\\nscared.\\nShe\\'s\\ngoing\\nto\\nask\\nwhere\\nyour\\nparents\\nare,\\nyou\\'re\\ngoing\\nto\\ntell\\nher\\nthat\\nmommy\\nwent\\naway\\nwith\\na\\nstranger\\na\\nlong\\ntime\\nago\\nand\\nhasn\\'t\\ncome\\nback.\\nShe\\'s\\ngoing\\nto\\ntry\\nto\\ncall\\nChild\\nWatch\\nServices,\\nbut\\nyou\\'re\\ngoing\\nto\\nbeg\\nher\\nnot\\nto.\\nYou\\'re\\ngoing\\nto\\nsay\\nthat\\nyou\\njust\\nneed\\nto\\ncall\\nmommy ,\\nbut\\nshe\\ntook\\nyour\\nCom-Palm\\naway .\\nJunet\\nwill\\ndetach\\nher\\nCom\\ndisc\\nand\\nallow\\nyou\\nto\\ncall\\nmommy\\nfrom\\nit.\\nAt\\nthat\\nvery\\nmoment,\\nmommy\\n–\\nthat\\'s\\nme\\nin\\ncase\\nyou\\ndidn\\'t\\ncatch\\non\\n–\\nwill\\nappear\\nand\\ncause\\na\\ncommotion.\\nYou\\nwill\\nplace\\nthe\\ncom\\ndisc\\nagainst\\nthis\\nSucker ,\\nand\\nthe\\ndata\\nwill\\nbe\\nours.\"\\nArtemis\\nwaved\\na\\nsmall\\nblack\\nbox\\nin\\nthe\\nair;\\nthe\\nSucker .\\nFor\\nthose\\nof\\nyou\\nthat\\naren’ t\\ntuned\\ninto\\nthe\\ncriminal\\ntrade,\\nSuckers\\nare\\nhighly\\ncomplicated\\ndevices\\nthat\\ncan\\nscan\\na\\ndevice\\'s\\ninternal', metadata={'source': 'file//Council_of_Light', 'document_name': 'C', 'chunk': '60', 'score': 0.683874785900116})]"
            ]
          },
          "execution_count": 65,
          "metadata": {},
          "output_type": "execute_result"
        }
      ],
      "source": [
        "me.similarity_search(\"What is a com-palm?\", k=2, search_distance=0.4)"
      ]
    },
    {
      "cell_type": "markdown",
      "metadata": {
        "id": "MvR5jNxFEE9m"
      },
      "source": [
        "# Retrieve Answers using Retrieval QA chain"
      ]
    },
    {
      "cell_type": "code",
      "execution_count": null,
      "metadata": {
        "id": "TjUuIjMYEDED"
      },
      "outputs": [],
      "source": [
        "# Create chain to answer questions\n",
        "NUMBER_OF_RESULTS = 10\n",
        "SEARCH_DISTANCE_THRESHOLD = 0.6\n",
        "\n",
        "# Expose index to the retriever\n",
        "retriever = me.as_retriever(\n",
        "    search_type=\"similarity\",\n",
        "    search_kwargs={\n",
        "        \"k\": NUMBER_OF_RESULTS,\n",
        "        \"search_distance\": SEARCH_DISTANCE_THRESHOLD,\n",
        "    },\n",
        ")"
      ]
    },
    {
      "cell_type": "code",
      "execution_count": null,
      "metadata": {
        "id": "UT0KCzUQGYWE"
      },
      "outputs": [],
      "source": [
        "#TODO: Retreival QA portion"
      ]
    },
    {
      "cell_type": "code",
      "execution_count": null,
      "metadata": {
        "id": "eCe-qfevDVCL"
      },
      "outputs": [],
      "source": [
        "template = \"\"\"SYSTEM: You are an intelligent assistant helping the users with their questions about the plot and characters of a novel.\n",
        "\n",
        "Question: {question}\n",
        "\n",
        "Strictly Use ONLY the following pieces of context to answer the question at the end. Think step-by-step and then answer.\n",
        "\n",
        "Do not try to make up an answer:\n",
        " - If the answer to the question cannot be determined from the context alone, say \"I cannot determine the answer to that.\"\n",
        " - If the context is empty, just say \"I do not know the answer to that.\"\n",
        "\n",
        "=============\n",
        "{context}\n",
        "=============\n",
        "\n",
        "Question: {question}\n",
        "Helpful Answer:\"\"\""
      ]
    },
    {
      "cell_type": "code",
      "execution_count": null,
      "metadata": {
        "id": "ulPX3aFJj1AC"
      },
      "outputs": [],
      "source": [
        "# Uses LLM to synthesize results from the search index.\n",
        "# Use Vertex PaLM Text API for LLM\n",
        "qa = RetrievalQA.from_chain_type(\n",
        "    llm=llm,\n",
        "    chain_type=\"stuff\",\n",
        "    retriever=retriever,\n",
        "    return_source_documents=True,\n",
        "    verbose=True,\n",
        "    chain_type_kwargs={\n",
        "        \"prompt\": PromptTemplate(\n",
        "            template=template,\n",
        "            input_variables=[\"context\", \"question\"],\n",
        "        ),\n",
        "    },\n",
        ")"
      ]
    },
    {
      "cell_type": "code",
      "execution_count": null,
      "metadata": {
        "id": "s404xwyqj1AC"
      },
      "outputs": [],
      "source": [
        "#Enable verbose logging for debugging and troubleshooting the chains which includes the complete prompt to the LLM\n",
        "# Enable for troubleshooting\n",
        "qa.combine_documents_chain.verbose = True\n",
        "qa.combine_documents_chain.llm_chain.verbose = True\n",
        "qa.combine_documents_chain.llm_chain.llm.verbose = True"
      ]
    },
    {
      "cell_type": "code",
      "execution_count": null,
      "metadata": {
        "id": "6V4XAxYlj1AC"
      },
      "outputs": [],
      "source": [
        "#utility function to format the result\n",
        "def formatter(result):\n",
        "    print(f\"Query: {result['query']}\")\n",
        "    print(\".\" * 80)\n",
        "    if \"source_documents\" in result.keys():\n",
        "        for idx, ref in enumerate(result[\"source_documents\"]):\n",
        "            print(\"-\" * 80)\n",
        "            print(f\"REFERENCE #{idx}\")\n",
        "            print(\"-\" * 80)\n",
        "            if \"score\" in ref.metadata:\n",
        "                print(f\"Matching Score: {ref.metadata['score']}\")\n",
        "            if \"source\" in ref.metadata:\n",
        "                print(f\"Document Source: {ref.metadata['source']}\")\n",
        "            if \"document_name\" in ref.metadata:\n",
        "                print(f\"Document Name: {ref.metadata['document_name']}\")\n",
        "            print(\".\" * 80)\n",
        "            print(f\"Content: \\n{wrap(ref.page_content)}\")\n",
        "    print(\".\" * 80)\n",
        "    print(f\"Response: {wrap(result['result'])}\")\n",
        "    print(\".\" * 80)\n",
        "\n",
        "\n",
        "def wrap(s):\n",
        "    return \"\\n\".join(textwrap.wrap(s, width=120, break_long_words=False))\n",
        "\n",
        "\n",
        "def ask(query, qa=qa, k=NUMBER_OF_RESULTS, search_distance=SEARCH_DISTANCE_THRESHOLD):\n",
        "    qa.retriever.search_kwargs[\"search_distance\"] = search_distance\n",
        "    qa.retriever.search_kwargs[\"k\"] = k\n",
        "    result = qa({\"query\": query})\n",
        "    return formatter(result)"
      ]
    },
    {
      "cell_type": "markdown",
      "metadata": {
        "id": "2BfiSNInj1AC"
      },
      "source": [
        "## Run QA chain on sample questions¶\n",
        "\n",
        "When you run the query, RetrievalQA chain takes the user question, call the retriever to fetch top k semantically similar texts from the Matching Engine Index (vector store) and passes to the LLM as part of the prompt. The final prompt sent to the LLM looks of this format:\n",
        "\n",
        "SYSTEM: {system}\n",
        "\n",
        "=============\n",
        "{context}\n",
        "=============\n",
        "\n",
        "Question: {question}\n",
        "Helpful Answer:\n",
        "where:\n",
        "\n",
        "system: Instructions for LLM on how to respond to the question based on the context\n",
        "context: Semantically similar text (a.k.a snippets) retreived from the vector store\n",
        "question: question posed by the user\n",
        "The response returned from the LLM includes both the response and references that lead to the response. This way the response from LLM is always grounded to the sources. Here we have formatted the response as:\n",
        "\n",
        "Question: {question}\n",
        "--------------------------------------------------------------------------------\n",
        "REFERENCE #n\n",
        "--------------------------------------------------------------------------------\n",
        "Matching Score: <score>\n",
        "Document Source: <document source location>\n",
        "Document Name: <document file name>\n",
        "................................................................................\n",
        "Context:\n",
        "{}\n",
        "................................................................................\n",
        "Response: <answer returned by the LLM>\n",
        "................................................................................"
      ]
    },
    {
      "cell_type": "code",
      "execution_count": null,
      "metadata": {
        "id": "VJDIGkJ_EaDr",
        "outputId": "2cfb8096-a077-4552-d5b4-315bdf9ea351"
      },
      "outputs": [
        {
          "name": "stdout",
          "output_type": "stream",
          "text": [
            "\n",
            "\n",
            "\u001b[1m> Entering new RetrievalQA chain...\u001b[0m\n",
            "Waiting\n",
            "\n",
            "\u001b[1m> Finished chain.\u001b[0m\n",
            "Query: Who is the main Character in The Council of Light?\n",
            "................................................................................\n",
            "--------------------------------------------------------------------------------\n",
            "REFERENCE #0\n",
            "--------------------------------------------------------------------------------\n",
            "Matching Score: 0.7526170015335083\n",
            "Document Source: file//Council_of_Light\n",
            "Document Name: C\n",
            "................................................................................\n",
            "Content: \n",
            "The Council of Light Book One of the Mechanic and Architect Series By Remy Welch remywelch @gmail.com 135,000 Words\n",
            "--------------------------------------------------------------------------------\n",
            "REFERENCE #1\n",
            "--------------------------------------------------------------------------------\n",
            "Matching Score: 0.7288496494293213\n",
            "Document Source: file//Council_of_Light\n",
            "Document Name: C\n",
            "................................................................................\n",
            "Content: \n",
            "to do anything with you, child. Aldus, do you want to explain?” Aldus stood and momentarily disappeared behind the\n",
            "towering podium. Moments later he walked slowly from around the corner , towards me, his gleaming pearl robe shuffling\n",
            "on the ground as he walked. His hair was also gleaming white, and his skin not much darker than that. “You are aware of\n",
            "a faction of anti-solar harnessing activists called The Relliance.” He did not state it as a question, but paused for a\n",
            "brief moment afterwards, as though he had. Just as I was going to respond in the affirmative, he continued: “For the\n",
            "last 40 years, they have been attempting to find the locations of our solar harnessing cores, and shut them down. Until\n",
            "two months ago, they had been unsuccessful. However , due to a leak in our ranks, they now have control of one of the\n",
            "cores in the Foreman Galaxia. You are aware of the Council’ s policy on interference in the matters of sentiency .” I\n",
            "was. The members of the Council were never seen in public, never heard from, with the exception of Geof f Azucarman, who\n",
            "would periodically share vague philosophical thoughts over the internet. Like the Gods of lore, they were silent in the\n",
            "face of both tragedy and bounty . I always thought they were pulling the strings from behind the scenes, but perhaps\n",
            "that was not entirely true. Aldus stroked his white beard and continued. “We do not act against the tide of time. We do\n",
            "not stop wars, or start them. We do not share gifts with any one group more than another . We do not force our gifts on\n",
            "anyone. These are the tenets of the Council of Light.”\n",
            "--------------------------------------------------------------------------------\n",
            "REFERENCE #2\n",
            "--------------------------------------------------------------------------------\n",
            "Matching Score: 0.7267552614212036\n",
            "Document Source: file//Council_of_Light\n",
            "Document Name: C\n",
            "................................................................................\n",
            "Content: \n",
            "sentients for studying it. However , defending the Council of Light or their Tenants was not a position you wanted to\n",
            "take on this barge. Elle held it together masterfully . “I feel as though every decision I’ve ever made in my life has\n",
            "led me here.” “Beautifully put, friend,” Christopher said. Jana nodded thoughtfully behind him. “You don’t yet know just\n",
            "how important this work is. How many lives will be saved by what we are doing on this very barge. Oh the things you do\n",
            "not know! But that is why you are here today . So that we may enlighten you, on at least some of these things.” Finally\n",
            ", the moment we had been waiting for was here. We were going to learn about the Cores. I was vibrating with excitement.\n",
            "Christopher activated a holo screen against the wall behind him. A stationary metallic orb appeared in the air — the\n",
            "Core. It was awesomely beautiful, its sheer massiveness apparent despite there being no other objects within its\n",
            "vicinity to compare it to. To my surprise, it looked surprisingly similar to the renderings that the Council allowed to\n",
            "be distributed throughout the Ertian Empire: a massive metallic sphere that completely enclosed the star, apart from a\n",
            "even pattern of circular holes, through which starlight beamed. Two bulbous rectennas hovered on either side of the\n",
            "core; presumably the main Core machthermal transmitters. The only difference from the images I had previously seen was\n",
            "that the Core’ s surface was a silvery , deep gray rather than gold. Christopher addressed Elle with a question. “Do you\n",
            "know how many cores there are?” “Not exactly , but there is believed to be around three or four. The first one was built\n",
            "around 1,500 years ago, somewhere in the Triangulum Galaxia. “Partially correct.” Christopher said. “There are three\n",
            "cores that we know of, but the oldest Core is actually the one we are working on here, in the Foreman cluster . It\n",
            "currently provides approximately 40% of the power consumed by the Ertian Empire, though for most of\n",
            "--------------------------------------------------------------------------------\n",
            "REFERENCE #3\n",
            "--------------------------------------------------------------------------------\n",
            "Matching Score: 0.705394983291626\n",
            "Document Source: file//Council_of_Light\n",
            "Document Name: C\n",
            "................................................................................\n",
            "Content: \n",
            "would win, the Ertian Empire would remain, the galaxies would keep spinning, but we’d be doomed. I would have to watch\n",
            "all those people die… “Ben, listen to me,” she said, piercing me with her gaze, “we have to find Amican.” I scratched\n",
            "the skin on the top of my head until my fingernails were full of dead cells. “And what, make him tell us how to shut the\n",
            "Core down?” “Yes.” “He’ s been kicked out of the Council of Light and even they don’t know where he is. Wouldn’ t we\n",
            "have an easier time trying to convince your father , or one of the other members to help us?” “The fact that he’s no\n",
            "longer in the Council is exactly why he’s the only one who can help us. Besides, I believe my father when he says he\n",
            "doesn’ t know how to shut down the Core. Amican took over the Solar Harnessing project from Cerisan, who took over from\n",
            "Zaerpath Foreman himself, before there even was a Council. With each handof f, the Core secrets have\n",
            "--------------------------------------------------------------------------------\n",
            "REFERENCE #4\n",
            "--------------------------------------------------------------------------------\n",
            "Matching Score: 0.7041299343109131\n",
            "Document Source: file//Council_of_Light\n",
            "Document Name: C\n",
            "................................................................................\n",
            "Content: \n",
            "Lucia pursed her lips in a grim expression. She could feel it too, like an electrical heaviness in the air. It was the\n",
            "same feeling she felt right before the Light Police attacked at the way station, but more stretched out and vague. \"I\n",
            "heard the Relliance took out an Solar Harnessing Core back where I was born, in Triangulum,\" she said. Dax nodded slowly\n",
            ". \"Yes, I heard the same.\" \"Whose side are you on?\" asked Lucia, unsure she wanted to hear the answer . \"There are far\n",
            "worse things in the universe than the Council of Light or the Relliance,\" replied Dax, \"it is those things that I am\n",
            "concerned with. Surely not a spetty fight between a group of wanna-be Gods, and a group of wanna-be heroes.\" \"But the\n",
            "Relliance wants to completely eliminate Solar Harnessing. That means no more intergalactic travel. Entire planets would\n",
            "be without power .\" \"The power of suns is not a gift that we can return, to be sure,” Dax responded. “The Relliance\n",
            "spreads the message that Solar Harnessing will be the eventual downfall of life, and say that is why they need to\n",
            "overtake the Cores. But what they are truly afraid of is losing control. No one seeks to attain power only to destroy\n",
            "it.\" Lucia remained silent. \"This one's a good listener Dax, I like that,\" said Ben. The mechanic had a slight slur to\n",
            "his speech. Whatever was in his cup must have been strong because Lucia had only seen him take a few sips. \"Come on\n",
            "Dax,\" he continued, \"enough of your politics. Tell us a funny story . The kid is clearly starved for conversation.\n",
            "Regaaaale us with one of your wise Argruarian tales.\" Lucia's eyes lit up at this. \"Ah, I’m tired Ben,” Dax responded.\n",
            "“I’ve been talking a lot and my throat is overtaxed. What about Marim? She’s barely said 20 words all day.” Dax gave a\n",
            "wry look in Marim’ s direction. It was true, Marim was not a woman of words, much less stories. She had remained\n",
            "stoically silent throughout the dinner , focusing on shoveling cream-covered sponge cake into her uncharacteristically\n",
            "--------------------------------------------------------------------------------\n",
            "REFERENCE #5\n",
            "--------------------------------------------------------------------------------\n",
            "Matching Score: 0.6952394247055054\n",
            "Document Source: file//Council_of_Light\n",
            "Document Name: C\n",
            "................................................................................\n",
            "Content: \n",
            "met a few days ago, huh? Did you think about that?” I asked. “Look asshole, this isn’t my first rodeo. I’ve been tailing\n",
            "the Relliance for years. I’m also the one who actually knows a thing or two about solar harnessing. Just let me do the\n",
            "talking, and every so often, look at me the way you did when we were walking on the beach in Terragion.” “Is that why\n",
            "I’m here? Just so you can have a fake husband? How do you know they won’ t look at us as competition, or immediately\n",
            "disown us because our bond isn’t as strong as theirs?” “You’re here so you can point out shit like that!” she shouted.\n",
            "“This is what you’re good at, right? What you were raised to do, you and your secret Promethian tribe, right? Except\n",
            "unlike the other members of your tribe, you’re stupid enough to openly operate a drug syndicate AND wander around an L2\n",
            "planet, hitting on random women! So, how about you stop trying to subvert the Council of Light and focus on something\n",
            "you can actually do, you stubborn child!” Like Cregan rods sliding into place, it suddenly clicked for me. Of\n",
            "course…when the Council introduced themselves to me, they referred to me by my assumed name, Ben Mcleod. They didn’ t\n",
            "know I was Pluoran, nor that I knew where the Cores were. The only reason I was here was because I was, for lack of a\n",
            "better word, loud. They wanted to know more about the\n",
            "--------------------------------------------------------------------------------\n",
            "REFERENCE #6\n",
            "--------------------------------------------------------------------------------\n",
            "Matching Score: 0.6946685910224915\n",
            "Document Source: file//Council_of_Light\n",
            "Document Name: C\n",
            "................................................................................\n",
            "Content: \n",
            "Chapter 8 - It’s more of a Sunk Cost Linear Regression Now , a brief history lesson. The Council of Light worked hard to\n",
            "gently abolish crime from the ITZ, over the course of a millenia. Sentiency was lulled into a peace that lasted for\n",
            "generations, and still blankets the High L planets to this day. But as the minds of humans began to wake from the dream\n",
            "of the Ertian Empire and search for a new way, crime began to make a comeback. Everywhere, there were pockets of people\n",
            "that wanted to rebel, and do whatever it was the Ertian Tenants didn’ t want them to do. Society was supplying the\n",
            "criminals, but who knew how to actually commit a crime? Artemis’ Family did. Thousands of years ago, they had been an\n",
            "organized gang that fled to Promethia, where they helped colonize the first planet outside of the Milky Way. Artemis’\n",
            "family had resisted the influence of the Ertian Empire for millenia, doing whatever it took to protect the secrets of\n",
            "their trade. Hacking, forging, spying — they carried on teaching these skills to their children even as the world moved\n",
            "on from needing them. They were criminals, outcasts; it was in their nature to act contrary to whatever the status quo\n",
            "was telling them to do. Little did they know that by resisting the tides of time, they would end up being the sole\n",
            "protectors of mountains of knowledge — that is, the only protectors outside of the Council of Light and the Ertian\n",
            "elite. The Family could have become a major entity in the ITZ, along with the likes of Davos, Phalereon, and even the\n",
            "Council themselves, but they preferred to stay under ground. The Family opened its doors to include non-blood relatives\n",
            "a long time ago, but I believe that was less about sharing the knowledge, and more about hiding the identity of the true\n",
            "Family lineage. After my stellar performance during my first play, Artemis took me to Promethia to introduce me to her\n",
            "family . It was not clear from her intonation whether I would be meeting her closest colleagues in the\n",
            "--------------------------------------------------------------------------------\n",
            "REFERENCE #7\n",
            "--------------------------------------------------------------------------------\n",
            "Matching Score: 0.6926403641700745\n",
            "Document Source: file//Council_of_Light\n",
            "Document Name: C\n",
            "................................................................................\n",
            "Content: \n",
            "“Whatever he is, Amican has to be taken out. He’s poisoned the ITZ enough.” Elle said. “Yes, you’ve told me a thousand\n",
            "times about the radiation. I agree that something has to be done. But trying to kill a member of the Council of Light is\n",
            "signing your own death warrant. And signing yours too,” Sorah said, pointing a gold-painted fingernail at me. “I know\n",
            "its a terrifying thought,” Elle said, “but the alternative, which is that a man who murdered billions of sents is freely\n",
            "roaming the Galaxia, is even more terrifying.” “It’s not a question of fear,” Sorah said forcefully . “I was just\n",
            "thinking...we have money , Y’ra and I. Why not try campaigning to get people to evacuate the affected worlds?” “The\n",
            "Relliance tried that, and it failed,” Elle said. “We have better people than the Relliance,” Sorah countered. Elle\n",
            "narrowed her eyes. “You didn’ t grow up in the Ertian Empire, did you?” I inhaled sharply . It was true, Sorah had been\n",
            "raised on a small colony in the Lub galaxy , and hadn’ t moved to Promethia until she met Y’ra. “No, I was raised in\n",
            "Lub,” Sorah said, quiet and quick. “Ben told me the same thing. I never knew if it was the truth, but from the way the\n",
            "both of you act, it has to be. People in the Ertian Empire do not question their safety . They do not question the\n",
            "Council. It would be like questioning the existence of gravity . Even if I started flying, you’d sooner believe I’d\n",
            "invented invisible wings than believe gravity didn’ t exist. They will never believe that the Council has betrayed them\n",
            "like this. Never .” “ You believe it, don’t you?” Sorah asked Elle. Elle pursed her lips. It was a question we all\n",
            "wanted an answer to. “Yes, I believe it. But I haven’ t spent my entire live in the Empire. I’ve seen what is outside\n",
            "the veil of protection. They have not.” Sorah looked Elle up and down, then huffed. She’d spent enough time in the\n",
            "Ertian Empire to know Elle was right. “Then we try finding more of Amican’ s proteges, figure out what exactly causes\n",
            "the\n",
            "--------------------------------------------------------------------------------\n",
            "REFERENCE #8\n",
            "--------------------------------------------------------------------------------\n",
            "Matching Score: 0.6849970817565918\n",
            "Document Source: file//Council_of_Light\n",
            "Document Name: C\n",
            "................................................................................\n",
            "Content: \n",
            "he’s driven and focused, intent on making an imprint on the world. “Now for the second bit. There’ s a new anti-\n",
            "harnessing activist group, calling themselves The Relliance. They believe that solar harnessing will be the downfall of\n",
            "life, and there are quite a few powerful and wealthy members, on the down-low of course. Their mission is to seize and\n",
            "disarm as many cores as possible. So far, they haven’ t been able to stop so much as a photon, mostly due to the fact\n",
            "that the location of the cores is a closely guarded secret.” Artemis opened her mouth as if she had something more to\n",
            "say, then decided against it. “So there’ s the information. Now you have to decide what you’re going to do with it.” She\n",
            "stood up from the couch, but I wasn’ t going to let her get away that easily . This was a blessedly welcome distraction\n",
            "from my teenage existential crisis. “He wants a protégé,” I said loudly , and she paused her exit. “I can get close to\n",
            "Petrus, become a replacement for his son. Make him rely on me for validation. He’ll trust me completely , and I’ll use\n",
            "that trust to find the location of the solar harnessing cores. Then, I’ll sell that information to The Relliance.” I\n",
            "smirked; it only took me a couple of seconds to figure out her little equation. Artemis sat back down. “How will you\n",
            "meet him? He’s one of the most important people in the ITZ. How will you convince him you’re worthy of even a second of\n",
            "his time, let alone worthy of him opening the deep wound that was left by his real son? And do you think that\n",
            "--------------------------------------------------------------------------------\n",
            "REFERENCE #9\n",
            "--------------------------------------------------------------------------------\n",
            "Matching Score: 0.6840077638626099\n",
            "Document Source: file//Council_of_Light\n",
            "Document Name: C\n",
            "................................................................................\n",
            "Content: \n",
            "Chapter 24 - This is Ben, My Husband It was not fun, working with Elle. Not at first, anyway . We left the floating\n",
            "barge that I had been taken to, which as I discovered, was hidden within a Posci field – shielding it from detection by\n",
            "virtually every detector known to sents. I set to work the moment we took off, running simulation after simulation in my\n",
            "head, trying to figure out how to free myself from the Council’ s grasp. There was no way they’d release me from being\n",
            "their pawn if I was successful in this mission they’d sent me on, but it wasn’ t like I could just run away . Staying\n",
            "hidden was not a viable option; there was just no way to know and eliminate all their methods of finding me. Not to\n",
            "mention, the Council held answers to questions that I had been afraid to even ask myself. Questions about my homeworld,\n",
            "the terrible earthquakes that brought it down, and an evil psychic tree that had some hand in causing that all to\n",
            "happen. There were so many things I needed to do, scenarios I needed to consider; but before I did any of that, I had to\n",
            "solve my most pressing problem. Elle would not shut up. From the moment the Council of Light had disappeared, she had\n",
            "been talking. She asked me about my homeworld, which I did not reveal. She asked me about my family , which I also\n",
            "brushed off. She asked me about my favorite serials, which I couldn’ t help but answer . She told me about her life,\n",
            "told me her thoughts about how to infiltrate the Relliance, told me how she learned about solar harnessing from Amican’\n",
            "s Stone’ s own protege. She was like Artemis in the months after we left Pluora, while I was lost in my sturdy towers,\n",
            "when she would talk at me for hours. Just like back then, I was mostly silent, but could not help but listen. Elle was\n",
            "fascinating, brilliant, funny – and she was making it absolutely impossible to plan my takedown of the Council. A few\n",
            "days of this madness went by, and we somehow made our way to a homeworld where the Relliance was known to be\n",
            "................................................................................\n",
            "Response: The main character in The Council of Light is Ben. He is a young man who is sent on a mission by the Council of Light to\n",
            "infiltrate the Relliance, an anti-solar harnessing activist group. Ben is a talented mechanic and engineer, and he is\n",
            "determined to succeed in his mission.\n",
            "................................................................................\n"
          ]
        }
      ],
      "source": [
        "ask(\"Who is the main Character in The Council of Light?\")"
      ]
    },
    {
      "cell_type": "code",
      "execution_count": null,
      "metadata": {
        "id": "_2xQTEu_EiK9",
        "outputId": "8cf4881f-abfc-4be2-bb75-46961750fdbf"
      },
      "outputs": [
        {
          "name": "stdout",
          "output_type": "stream",
          "text": [
            "\n",
            "\n",
            "\u001b[1m> Entering new RetrievalQA chain...\u001b[0m\n",
            "Waiting\n",
            "\n",
            "\u001b[1m> Finished chain.\u001b[0m\n",
            "Query: How does the story end?\n",
            "................................................................................\n",
            "--------------------------------------------------------------------------------\n",
            "REFERENCE #0\n",
            "--------------------------------------------------------------------------------\n",
            "Matching Score: 0.6619444489479065\n",
            "Document Source: file//Council_of_Light\n",
            "Document Name: C\n",
            "................................................................................\n",
            "Content: \n",
            "\"Oh, I don't care,\" said Lucia, \"I've heard worse.\" \"See Dax? You underestimate our dear chef,\" Ben nudged Lucia's arm.\n",
            "\"But we should get out of here anyway , I don't like the way that guy is looking at me,\" Ben said, lowering his voice\n",
            "and gesturing to a man sitting at the table across from them. \"Maybe he's imagining Marim sitting on your face,\" Lucia\n",
            "said. Ben looked back at her, this time with genuine shock on his face. He burst out suddenly in laughter . \"Ha! What\n",
            "did I tell you, Dax? She's got a sense of humor!\" Lucia smiled to herself. Marim, on the other hand, looked deeply\n",
            "troubled. “What has you perturbed?” Dax asked her. “I have thought of a story to tell.” “What, right now?” Ben asked.\n",
            "“Now is a time to tell it.” Ben chuckled, clearly amused by the sudden turn of events. “Ok then, tell it.” “Ancient\n",
            "Ertian stories are most beautiful and powerful, so Ben, keep your mouth shut.\" She wagged a strong finger at the\n",
            "mechanic. \"I will do my best to withhold my genius commentary .\" \"Many thanks.\" Marim began.\n",
            "~~~~~~~~~~~~~~~~~~~~~~~~~~~~~~~~~~~~~~~~~~~~~~~~~~~~~~ Long ago, there existed a planet that was poor and\n",
            "underdeveloped. The people of this land worshiped Makenchi, the Master Architect, who built the heavens above and the\n",
            "earth below by molding stardust in his bare hands. The people tried with all their might to build structures that would\n",
            "please the Master Architect, but they lacked all skill, and their creations would turn out lopsided and unsteady . One\n",
            "day, one of the largest buildings in the center of town fell, killing all who were inside. But when the dust settled, a\n",
            "woman saw an infant child perched on top of the rubble, completely unscathed. She took the child, naming him Sakenchi.\n",
            "His name meant \"great builder\", for he was blessed by Makenchi, the ultimate builder , and he was therefore destined to\n",
            "become the greatest architect in the land. The child grew to become a man, and as he did, he built incredible structures\n",
            "that were so beautiful the\n",
            "--------------------------------------------------------------------------------\n",
            "REFERENCE #1\n",
            "--------------------------------------------------------------------------------\n",
            "Matching Score: 0.6562894582748413\n",
            "Document Source: file//Council_of_Light\n",
            "Document Name: C\n",
            "................................................................................\n",
            "Content: \n",
            "~~~~~~~~~~~~~~~~~~~~~~~~~~~~~~~~~~~~~~~~~~~~~~~~~~~~ Ben paused abruptly . “Is, uh, is this boring you guys?” The gang\n",
            "shook their heads. “I just feel like, compared to the other things I’ve done, this is pretty white bread. I mean, not to\n",
            "spoil anything, but I’ve been to every planet in the ITZ, and some outside of it. I spent almost a century on the\n",
            "Reptilian Planet learning to speak their language. I feel like maybe I’m burying the lead here.” Dax spoke up, “you\n",
            "spending a hundred years on a planet full of lizards sounds like a pretty boring story too.” Ben considered this. “Good\n",
            "point, Dax.” “I want to know what happens with Amal,” said Lucia. “Do you guys ever do it?” Marim cut in, “This Petrus\n",
            "guy, he is actually a business robot, is he not? He has been replaced by illegal AI.” “What? Basar ’s toe, no.” Ben held\n",
            "up his hands. “I guess you are pretty invested in the story . But I’m going to fast forward through the mushy father\n",
            "-daughter reconciliation stuff. Petrus said he was sorry for abandoning her, Amal said she forgave him, they both cried,\n",
            "it was truly very touching. Petrus thanked me on their way out to get ice cream or something together . Then, a week\n",
            "later, we had the opportunity to talk again.” ~~~~~~~~~~~~~~~~~~~~~~~~~~~~~~~~~~~~~~~~~~~~~~~~~~~ It was my second visit\n",
            "to Petrus’ condo since the reconciliation, but the first time he was home. Amal and I were watching a flat Box show ,\n",
            "‘Journey into the Supercluster ’. I chose it because Amal usually fell asleep when watching less-immersive mediums, plus\n",
            "I genuinely enjoyed learning about the parts of the universe sentiency had only just begun exploring. With Amal’ s\n",
            "innocent face sleeping softly on my arm, and the multicolored stars of the Targo Supercluster floating across the large\n",
            "screen before us, I considered for a moment delaying my plans to sneak away to find Petrus. A large comet streaked\n",
            "across the screen, filling the room with yellow light. No, the timing was perfect, my plan locktight.\n",
            "--------------------------------------------------------------------------------\n",
            "REFERENCE #2\n",
            "--------------------------------------------------------------------------------\n",
            "Matching Score: 0.6536237001419067\n",
            "Document Source: file//Council_of_Light\n",
            "Document Name: C\n",
            "................................................................................\n",
            "Content: \n",
            "Dax continued. “It is a terrible thing, to have one’s homeworld taken from them. More terrible still, to be unsure of\n",
            "who did it, or why.” “There is a more terrible fate even than that,” Ben said, coming from around the corner . He looked\n",
            "more tired than Lucia had ever seen him, his normally orange-tinged skin now grey and dropping. “It is nice though, to\n",
            "recall a time when I still had doubts about what happened to Pluora. When a part of me could still believe that it had\n",
            "simply imploded under the weight of itself.” “Maybe you didn’ t want to know then, but I do, now,” Lucia insisted. “I\n",
            "already told you the story I wanted to tell about Pluora. Maybe someday I’ll tell you a story about Silen. But this\n",
            "story I’m telling now is about me. Ben the mechanic and his dastardly deeds.” Lucia leaned back on the couch and folded\n",
            "her arms. “I want to hear more about Ben the hero.” A hint of vigor returned to Ben’ s face for a moment, before his\n",
            "skin sagged back down. He lowered himself gingerly into the brown loveseat, careful not to disturb his still healing\n",
            "wound. “I don’t know who you’re talking about,” Ben responded. “But I’ll tell you more about what I did.”\n",
            "--------------------------------------------------------------------------------\n",
            "REFERENCE #3\n",
            "--------------------------------------------------------------------------------\n",
            "Matching Score: 0.6484788656234741\n",
            "Document Source: file//Council_of_Light\n",
            "Document Name: C\n",
            "................................................................................\n",
            "Content: \n",
            "“Anything smarter than a gnat but dumber than your average Professor . There is some wiggle room outside of that of\n",
            "course, as you learned with Petrus.” “By the Council...Marim, Dax, you both knew about this…species?” They both nodded\n",
            "in the affirmative. Marim added, “I did not know of the Silen until I met Ben. Now we have a special contract, where we\n",
            "are paid the largest bounties for any of the Silen we kill.” “You’re not supposed to tell anyone about that, Marim,” Ben\n",
            "said. “The girl is ok. She is trustworthy , and part of our team.” Ben waved his hand. “Fine, whatever . I’m done\n",
            "talking about Silen, about Artemis, about soffing tertiary school. The next part of the story is the best part. This\n",
            "chapter is where I have fun, make tons of money and boff lots of hot bitties.” Ben raised his hand for a high-five from\n",
            "Dax, who slapped it with a chuckle. Ben then offered his raised palm to Marim, who returned it with a death stare. Ben\n",
            "slapped his own hand and grinned, clearly pleased with himself. Lucia ignored the exchange and launched into another\n",
            "question. “But why don’t we—“ Ben held up his hand again, this time to signal ‘stop’. “Lucia Lucia Lucia. The deal was,\n",
            "I would tell you my story , and you would stop asking me questions.” “I never made a deal with you.” Ben cocked his head\n",
            "to the side. “Wait really? That can’t be right…”. He looked up, trying to think. “Soff it, I must have been high, I\n",
            "can’t remember .” He sighed. “I meant to make it a deal, so can’t you just honor that?” Lucia frowned. “But I have so\n",
            "many questions.” Ben put his hands on her shoulder . “Just trust, Lucia, that all will be revealed eventually . I can’t\n",
            "just spoil the whole story for you, that’s bad television.” He looked her square in the eyes, willing her to understand.\n",
            "Lucia felt naked beneath his gaze. How did he do that? She stood from the yellow couch, folded her arms over her chest\n",
            "and stormed off without another word. Ben was almost sad to see her go. Almost. “I guess I’ll pick\n",
            "--------------------------------------------------------------------------------\n",
            "REFERENCE #4\n",
            "--------------------------------------------------------------------------------\n",
            "Matching Score: 0.6482595205307007\n",
            "Document Source: file//Council_of_Light\n",
            "Document Name: C\n",
            "................................................................................\n",
            "Content: \n",
            "some energy from the hydrogen bomb. No dying today ,” he said, exhaustion coating his words like a thick molasses. “I\n",
            "don’t...understand,” she looked over to Dax, then to Marim. Dax’ s ears flicked with happiness, and Marim had turned\n",
            "away from the windshield, a calm smile on her face. Neither of them offered her an explanation. “No dying today!” echoed\n",
            "Dax. “How long until we reach a patch of ‘gum? I’m not too kreen on having this thing nipping at our tail, even though\n",
            "we can outrun it, to be unsure.” Confused, but grateful to be alive no matter what the reason, Lucia answered him. “3\n",
            "days, it looks like.” “I’m guessing an Ertian Empire garbage collector will find and sweep up that mess of a bomb before\n",
            "then. Maybe they can rescue us too.” “I hope not,” Goose said, not wanting to draw the attention of the Light Police, or\n",
            "the Tarisian Tenants. “We’ll be fine,” Dax waved a hand. He walked over to Ben, who was now slumped over on the control\n",
            "panel, and patted a hand on his shoulder . “A great thanks to you and your gift. It is fortuitous to see you use it\n",
            "again.”\n",
            "--------------------------------------------------------------------------------\n",
            "REFERENCE #5\n",
            "--------------------------------------------------------------------------------\n",
            "Matching Score: 0.6456896066665649\n",
            "Document Source: file//Council_of_Light\n",
            "Document Name: C\n",
            "................................................................................\n",
            "Content: \n",
            "There was a moment of thoughtful silence, then Lucia asked, with a brave face, \"What is Pluora?\" Ben stopped in his\n",
            "chair mid-swivel. His gray eyes were fixed on something, except they were no longer seeing anything in this reality . He\n",
            "sat like this for 20 seconds, the longest Lucia had ever seen him stay still. Finally , he dropped his chin to his\n",
            "chest. \"You were snooping, in my workshop.\" \"Yes.\" Ben let out a short, empty chuckle through his nose. Lucia felt a\n",
            "pang of guilt; she had clearly stumbled upon a bad memory . “I’m sorry ...I didn’ t mean to, um, intrude,” she said.\n",
            "\"No, no,” Ben waved his hand, “ask about any period of my life, and odds are, I'm going to have to tell you a sad story\n",
            ". This is one of the saddest, however .\" Lucia was frightened by Ben's sudden depression, but nothing in the universe\n",
            "could have made her rescind her question. Marim and Dax were equally enticed, neither of them moving or saying a word.\n",
            "\"Well then sents, gather round,\" he stood, walking to the center console, where Dax had placed his light. It under -lit\n",
            "Ben’ s face, casting long, ominous shadows from his facial features. \"Let me tell you about the death of Pluora, my\n",
            "homeworld.\" ~~~~~~~~~~~~~~~~~~~~~~~~~~~~~~~~~~~~ Pluora was one of four planets created by the Council of Light, a\n",
            "millennia after they discovered how to harness the power of stars. No longer would they have to search for the\n",
            "infinitely rare goldilocks rocks upon which they had molded their other worlds. With such immense energy, they were able\n",
            "to pull space dust into a concentrated point, birthing a molten planet. They cooled the atmosphere at an accelerated\n",
            "rate, until the weather conditions were appropriate for life. Super -plants were cultivated on the surface, turning\n",
            "volcanic rock to soil and removing any toxins from the air. Finally , they introduced animal life; birds and frogs and\n",
            "sagoats first, to make sure the planet was habitable, then humans. It was a paradise. Giant trees scraped the blue-\n",
            "purple\n",
            "--------------------------------------------------------------------------------\n",
            "REFERENCE #6\n",
            "--------------------------------------------------------------------------------\n",
            "Matching Score: 0.645107626914978\n",
            "Document Source: file//Council_of_Light\n",
            "Document Name: C\n",
            "................................................................................\n",
            "Content: \n",
            "Lucia pursed her lips in a grim expression. She could feel it too, like an electrical heaviness in the air. It was the\n",
            "same feeling she felt right before the Light Police attacked at the way station, but more stretched out and vague. \"I\n",
            "heard the Relliance took out an Solar Harnessing Core back where I was born, in Triangulum,\" she said. Dax nodded slowly\n",
            ". \"Yes, I heard the same.\" \"Whose side are you on?\" asked Lucia, unsure she wanted to hear the answer . \"There are far\n",
            "worse things in the universe than the Council of Light or the Relliance,\" replied Dax, \"it is those things that I am\n",
            "concerned with. Surely not a spetty fight between a group of wanna-be Gods, and a group of wanna-be heroes.\" \"But the\n",
            "Relliance wants to completely eliminate Solar Harnessing. That means no more intergalactic travel. Entire planets would\n",
            "be without power .\" \"The power of suns is not a gift that we can return, to be sure,” Dax responded. “The Relliance\n",
            "spreads the message that Solar Harnessing will be the eventual downfall of life, and say that is why they need to\n",
            "overtake the Cores. But what they are truly afraid of is losing control. No one seeks to attain power only to destroy\n",
            "it.\" Lucia remained silent. \"This one's a good listener Dax, I like that,\" said Ben. The mechanic had a slight slur to\n",
            "his speech. Whatever was in his cup must have been strong because Lucia had only seen him take a few sips. \"Come on\n",
            "Dax,\" he continued, \"enough of your politics. Tell us a funny story . The kid is clearly starved for conversation.\n",
            "Regaaaale us with one of your wise Argruarian tales.\" Lucia's eyes lit up at this. \"Ah, I’m tired Ben,” Dax responded.\n",
            "“I’ve been talking a lot and my throat is overtaxed. What about Marim? She’s barely said 20 words all day.” Dax gave a\n",
            "wry look in Marim’ s direction. It was true, Marim was not a woman of words, much less stories. She had remained\n",
            "stoically silent throughout the dinner , focusing on shoveling cream-covered sponge cake into her uncharacteristically\n",
            "--------------------------------------------------------------------------------\n",
            "REFERENCE #7\n",
            "--------------------------------------------------------------------------------\n",
            "Matching Score: 0.6392351984977722\n",
            "Document Source: file//Council_of_Light\n",
            "Document Name: C\n",
            "................................................................................\n",
            "Content: \n",
            "A heat flared inside of her, propelling her on. “How do you know I couldn’ t do it if you won’ t even tell me what it\n",
            "is?” “It will come up again in the story , Lucia.” “But, when?” “Eventually! If you would just let me tell the soffing\n",
            "story the way I want to soffing tell it, you’ll get the mystic fucking answers you seek!” Ben threw the cup he was\n",
            "holding against the wall, casting droplets of water into the air. “And then you’ll be disappointed cause it will just be\n",
            "another thing that you can’t do!” With that, Ben walked out of the room in a huff. Tears came to Lucia’ s brown eyes.\n",
            "She fell to her knees on the cold, hard floor . She pressed the heels of her hands into her eyes until the tears could\n",
            "no longer squeeze through, as she would often do as a child. “I’m so confused,” she whispered to herself. From somewhere\n",
            "within the depths of the ship, Ben’ s voice rang out. “Get used to it!” Part IV\n",
            "--------------------------------------------------------------------------------\n",
            "REFERENCE #8\n",
            "--------------------------------------------------------------------------------\n",
            "Matching Score: 0.6392025947570801\n",
            "Document Source: file//Council_of_Light\n",
            "Document Name: C\n",
            "................................................................................\n",
            "Content: \n",
            "of her, sticking a large, rectangular gun into her cheek. “Tell me, who sent you?” Lucia closed her eyes, trembling at\n",
            "the warmth of the wide barrel against her face. Her mind was blank- she could think of no excuse, no response, not even\n",
            "a few words to beg for her life. Marim did not tremble. She stared at the woman, her entire body tensed with fiery\n",
            "defiance. “Fine then, I’ll just kill you. Doesn’ t really matter anyway ,” the woman said. Lucia felt the gun leave her\n",
            "cheek and aim at her head. Elia, Haman, Zaerpath, please save me, she prayed to the founding members of the Council of\n",
            "Light. Could this really be how her story would end? Lucia clenched her teeth and turned her face to the ground. The\n",
            "room went black. Three shots rang out through the warehouse. With super -human quickness, the black-haired woman jumped\n",
            "over Lucia and slid behind one of the shelves. Lucia curled up into a ball and fell to her side, where she could see the\n",
            "outline of the guard’ s bodies\n",
            "--------------------------------------------------------------------------------\n",
            "REFERENCE #9\n",
            "--------------------------------------------------------------------------------\n",
            "Matching Score: 0.6360612511634827\n",
            "Document Source: file//Council_of_Light\n",
            "Document Name: C\n",
            "................................................................................\n",
            "Content: \n",
            "Rachem grew to a man, and built creations even finer than his father's. He built mountains, and trees, but Sakenchi\n",
            "could never see them. Rachem bore a son, and that son built a new planet, but Sakenchi could not see it. A thousand\n",
            "years passed, and Sakenchi's progeny continued to build greater and grander things, but Sakenchi could never see them.\n",
            "One day, as he sat alone in his room, Sakenchi heard a great flap of a giant bird's wings. \"Do you see now Sakenchi?\"\n",
            "said the bird. Sakenchi fell to his knees before the bird. \"I do,\" he wept, \"you were right, oh great Makenchi, I had\n",
            "already created my greatest work when I created my son, and now I will never be able to enjoy his creations for I am\n",
            "blind to them.\" Makenchi bowed her head. \"You have pleased me, Great Architect.\" Sakenchi smiled, and fell into an\n",
            "endless sleep. ~~~~~~~~~~~~~~~~~~~~~~~~~~~~~~~~~~~~~~~~~~~~~~~ Ben huffed and dropped a black pill of some kind into his\n",
            "pink drink. “That was very, um, majestic, Marim.” Marim nodded and folded her arms, indicating she’d completed her task\n",
            "satisfactorily . “I like this!” Lucia blurted out. Each of the bounty hunters turned to look at her. “I, uh…I mean\n",
            "this,” she moved her slim arms in a circular motion. “Us, talking, telling stories. Together .” The crew continued to\n",
            "stare at her, eyes blank. Ben downed the rest of his drink, which was now a deep purple. \"I, um, I wanted to ask you…\"\n",
            "she said, pointing her quivering hand at the mechanic. She regretted opening her mouth in the first place, but there was\n",
            "no going back now. \"Here I am Lucia, what do you need?\" \"I want to know what happened next.\" \"After what?\" \"After , um,\n",
            "well after you left Pluora. Was it completely destroyed?\" \"It was.\" \"Did anyone else escape? Apart from you and that\n",
            "teacher?\" Ben sighed. \"How about this Lucia. I've got nothing to do tomorrow except waste away on the ship waiting for\n",
            "the next machine to break down. Come to the Great Room in the morning, and I'll tell you what happened next.\"\n",
            "................................................................................\n",
            "Response: The story ends with Ben telling Lucia that he will tell her what happened next the next morning.\n",
            "................................................................................\n"
          ]
        }
      ],
      "source": [
        "ask(\"How does the story end?\")"
      ]
    },
    {
      "cell_type": "code",
      "execution_count": null,
      "metadata": {
        "id": "RPoYv1SbEqwu",
        "outputId": "160b5893-cd41-473a-cdc1-1a7d9cbe3598"
      },
      "outputs": [
        {
          "name": "stdout",
          "output_type": "stream",
          "text": [
            "\n",
            "\n",
            "\u001b[1m> Entering new RetrievalQA chain...\u001b[0m\n",
            "Waiting\n",
            "\n",
            "\u001b[1m> Finished chain.\u001b[0m\n",
            "Query: What planet is Dax from?\n",
            "................................................................................\n",
            "--------------------------------------------------------------------------------\n",
            "REFERENCE #0\n",
            "--------------------------------------------------------------------------------\n",
            "Matching Score: 0.7360135316848755\n",
            "Document Source: file//Council_of_Light\n",
            "Document Name: C\n",
            "................................................................................\n",
            "Content: \n",
            "“An old colleague of mine heard that some of the members of the durious Ruff gang have taken up residence on Taris\n",
            "proper ,” Dax offered. “The trip will have been well worth it if we snag one of them.” “Now that is a great idea. I bet\n",
            "Lucia’ s never been to Taris.” Ben yelled out towards the direction Lucia had stormed off, “HEY LUCIA! HAVE YOU BEEN TO\n",
            "TARIS?” When no response was forthcoming, he opened a line to her Com-Palm. “Hey Lucia. Lucia, Lucia, Luuuuuuuucia. Lu—“\n",
            "Lucia responded from the other end. “What, Ben?” “Have you ever been to Taris?” “That ancient orb? No.” Ben closed the\n",
            "line without another word and slapped the arm of puffy loveseat he was seated on. “Well that tears it, we’re going to\n",
            "Taris!” ___________________________________________ A few hours later, the ship exited FTL travel and the crew gathered\n",
            "on the flight deck to watch the oncoming planet swell into view . From afar, the planet looked like any other: a ball of\n",
            "blue, brown, gray and green, smeared with white. As the crew approached the surface, the differences began to become\n",
            "apparent. The ship docked on a patchwork pad of various metals that had been crudely welded together . The landing\n",
            "station was surrounded with skyscrapers of all colors - Brown, gray, blue, yellow - that were in all states of disrepair\n",
            ". The cool, misty weather hid the streets below , giving the impression that the city had been abandoned, perhaps for\n",
            "hundreds of years. Dirt and grime covered rickety-looking tubes that wrapped around the dilapidated buildings and\n",
            "plunged into the fog below . Lucia was beginning to think they’d taken a wrong turn when her eyes spotted movement\n",
            "through the clouds. Something was traveling through the grimy tubes at high speed, and outdated shuttles were making\n",
            "their way from roof to roof. Now that she looked more closely , she could see that the buildings were, in fact, not\n",
            "abandoned. Broken windows were patched up, or replaced with a different type of glass. The buildings’ sides were\n",
            "--------------------------------------------------------------------------------\n",
            "REFERENCE #1\n",
            "--------------------------------------------------------------------------------\n",
            "Matching Score: 0.7320578694343567\n",
            "Document Source: file//Council_of_Light\n",
            "Document Name: C\n",
            "................................................................................\n",
            "Content: \n",
            "Her endeavors to find out more about the three hunters had been most successful with Dax, who could often be found in\n",
            "the Great Room, passing the time between bounties by playing board games. Lucia would assist him in multi-player games,\n",
            "and in turn, Dax would tell her about some of his past adventures. His homeworld, like all other planets with life that\n",
            "had been found thus far, hadn't developed to the point of intergalactic space travel when the first humans landed there\n",
            "hundreds of years ago. Dax himself had been born outside of the Argruarian’ s home galaxy , to an adventurous mother .\n",
            "They had returned to Gruar not long after that, but not before Dax was blessed with the same wander -lust that had\n",
            "afflicted his mom. She taught him to speak Ertish from a young age, which was no small feat considering the difference\n",
            "between human vocal cords, and that of Dax's species. Dax told Lucia that although he had teamed up with Marim first, he\n",
            "had known Ben for decades, after he had attempted to arrest Ben for drug manufacturing. When Lucia pressed Dax for\n",
            "details, he only disclosed that Ben had saved his life all those many years ago, and that he could probably tell the\n",
            "story better . Ben didn’ t look like someone who was old enough to have saved a life ‘all those many years ago’. Indeed\n",
            "Lucia wanted to speak to the young mechanic, but he had holed himself up in his workshop ever since they narrowly\n",
            "escaped the fuchsia planet. He spent almost every hour in his workshop, behind the thick, closed door. Lucia pressed her\n",
            "ear to it on occasion, sometimes hearing clanging metal, sometimes the low buzz of a flash welder , sometimes complete\n",
            "silence. Perhaps telling the story of his homeworld had sent him into a minor depression. It was almost as though he had\n",
            "transformed into another person while recalling his youth; his face became softer , his words more nuanced. Everything\n",
            "about Ben was incomprehensible to Lucia; he was so odd, so flawed, so intense. Where Lucia had been\n",
            "--------------------------------------------------------------------------------\n",
            "REFERENCE #2\n",
            "--------------------------------------------------------------------------------\n",
            "Matching Score: 0.7159072160720825\n",
            "Document Source: file//Council_of_Light\n",
            "Document Name: C\n",
            "................................................................................\n",
            "Content: \n",
            "“They’re all of our ancestors, Marim, by Basar ’s name,” Ben sighed heavily and pulled himself up into a standing\n",
            "position. “Fine, if you’re all so bored, we can go catch a baddie.” Dax snorted again. “You know , a month ago I couldn’\n",
            "t even drag you out to spy on a bounty , now you’re extolling orders to us. I might divine that you’re starting to\n",
            "care.” “Couldn’ t be further from the truth, Dax,” Ben said. “I care even less about the bounties, about you all, about\n",
            "any of this; that’s why I’m getting involved. I don’t even care enough to stay out of it anymore.” Dax knew better than\n",
            "to continue arguing. At Ben’ s direction, the gang piloted their trusty Space Duster back to the patchwork planet of\n",
            "Taris. They landed at the same port as they had nine days previous, and took the same ancient flash tubes to another\n",
            "decrepit part of the nearest city. Within the space of an hour, Lucia found herself seated at a dingy bar, feeling an\n",
            "uneasy sense of deja vu.\n",
            "--------------------------------------------------------------------------------\n",
            "REFERENCE #3\n",
            "--------------------------------------------------------------------------------\n",
            "Matching Score: 0.715019702911377\n",
            "Document Source: file//Council_of_Light\n",
            "Document Name: C\n",
            "................................................................................\n",
            "Content: \n",
            "That didn’ t matter at all to Goose. “Mom!” he exclaimed at her avatar bust. “Goose, by the Council, what has been going\n",
            "on? Please tell me what really happened to Moose? He’s, he’s not…” her large brown eyes blinked rapidly . Goose fell\n",
            "silent, his giant eyes bulging out of his head. He looked at Dax. “Can I take this is another room?” Dax grumbled loudly\n",
            ", tapping the active pad on his belt. “You can leave for all I care. It’s not like Alfred is ever going to show his face\n",
            "again.” Goose scampered out of the room with no intention whatsoever of leaving the ship, for there was nowhere out\n",
            "there he wanted to be. Dax continued grumbling. Lucia exited the room that had become her makeshift kitchen, holding a\n",
            "still bubbling ghiken melt, which she handed to Dax. “I think you need this,” she said. “I surely do,” Dax said quickly\n",
            ", before taking a large bite of the melt. “Arrr that burns! Oh, deepest sorries Lucia, that was rude of me.” Lucia\n",
            "placed her own melt on the tea table, and waved a dismissive hand. She waited for it to cool as Dax tenderly chewed the\n",
            "steaming food. She preferred this life, she decided, compared to the dangers of bounty hunting. Her place was on the\n",
            "ship, where it was safe. Marim appeared from the makeshift kitchen, holding her melt on a plate. She nodded to Lucia in\n",
            "thanks. Lucia watched as the two delightfully devoured their meal. Then she asked a burning question of her own. “Dax,\n",
            "do you know what actually happened to Ben’ s homeworld? Was it really Silen?” Dax hmmed. “Ben’ s never talked about\n",
            "that.” “How can he not talk about it? I don’t understand how he didn’ t do everything he could to figure that out, back\n",
            "then, when it happened.” “It is unsure if you’ve noticed this already , but Ben has a way of avoiding these things.\n",
            "Avoiding perniciously difficult things, that is. And the way he does that, is by focusing the laser of his mind on\n",
            "something else.” Lucia looked down at her ghiken melt, shining with cooled oil.\n",
            "--------------------------------------------------------------------------------\n",
            "REFERENCE #4\n",
            "--------------------------------------------------------------------------------\n",
            "Matching Score: 0.7126185894012451\n",
            "Document Source: file//Council_of_Light\n",
            "Document Name: C\n",
            "................................................................................\n",
            "Content: \n",
            "Dax furrowed his brow for a moment, before relaxing his face and smiling. \"Mate, I can't think of a better way to spend\n",
            "a Forday .\" Marim simply nodded her head in agreement. Lucia would have added her vote of support as well, but Ben had\n",
            "already moved on. This was only happening because of her, she reminded herself, so that was acknowledgement enough.\n",
            "\"Fantastic!\" Ben said, trying his best to hide his pride. \"Then let's begin where we left off, in a tiny escape pod in\n",
            "the middle of the empty sky.\"\n",
            "--------------------------------------------------------------------------------\n",
            "REFERENCE #5\n",
            "--------------------------------------------------------------------------------\n",
            "Matching Score: 0.7093470692634583\n",
            "Document Source: file//Council_of_Light\n",
            "Document Name: C\n",
            "................................................................................\n",
            "Content: \n",
            "Chapter 19 - Day 10 - A third type of Argruiarian The inside of the “Old Man’ s Beard” looked better than the outside,\n",
            "but that wasn’ t saying much. The bar was a solid piece of brown Polymytex, an indestructible but plain material. The\n",
            "floor and walls were covered with Argruarian moss, and several round, dinged-up tables filled the dimly-lit space\n",
            "between. It was clearly an Argruarian-run establishment; a rare find on most planets. Dax greeted the two Argrurians\n",
            "behind the bar in his native tongue, which sounded to human ears like a series of low grumbles punctuated by occasional\n",
            "high-pitched whines. The gang gathered around a table, and a female Argruarian – gendered by her shorter ears and wavy\n",
            "fur - brought them menus. The Argruarians hadn’ t developed a sophisticated written language at the time they were\n",
            "discovered by humans, so the menus were in Ertian. “Family , this round is on me, in honor of Ben saving my ass once\n",
            "again,” Dax said. Lucia placed her hands on the table and leaned forward. “Seriously Ben, thank you. That was\n",
            "incredible.” Marim nodded steadfastly in Ben’ s direction. The mechanic smiled to himself. “Alright, alright. We needed\n",
            "the money . You guys distracted them, and it all worked out in the end. Not a big deal. Now , what I did to save Dax all\n",
            "those years ago, that is a story .”\n",
            "--------------------------------------------------------------------------------\n",
            "REFERENCE #6\n",
            "--------------------------------------------------------------------------------\n",
            "Matching Score: 0.7093204259872437\n",
            "Document Source: file//Council_of_Light\n",
            "Document Name: C\n",
            "................................................................................\n",
            "Content: \n",
            "“Exactly the story I wanted to tell you all.” Dax took a sip of his drink, cleared his throat, and began.\n",
            "~~~~~~~~~~~~~~~~~~~~~~~~~~~~~~~~~~~~ Now I can’t fill in much of the time between where Ben left off after Artemis’\n",
            "funeral and when we met, but— ~~~~~~~~~~~~~~~~~~~~~~~~~~~~~~~~~~~~ Ben interrupted, “Oh but I can! It’s the best part of\n",
            "my whole story! Everything before this is tragic, and after it is just so…tragic!“ “You don’t consider operating a drug\n",
            "syndicate a mistake?” “Dax, you know full well that I do not. Let me just tell you guys a little bit about how I\n",
            "invented the Xarabee drug… or about the fiasco at the M32 concert… come on Dax, you know that’s a good story!” “M32\n",
            "happened way after this, I think you’re getting your stories mixed up, Ben.” Lucia interjected. “I want to hear Dax’ s\n",
            "side of the story . Who cares about all the drugs you’ve done and the girls you’ve slept with.” Ben looked at Lucia as\n",
            "though she had just betrayed him to his worst enemy . Marim snorted into her drink. “Fine, what do I care. Ungrateful\n",
            "bitch.” Ben leaned back into his chair and folded his arms. Lucia started to retort, but Dax put his small hand on her\n",
            "arm. “Children, please. I’ve put up with enough of both of your sqwaking to earn my chance to speak. So both er you shut\n",
            "yer fucking traps and listern to ma soffing story .” He laid on his accent thick for emphasis. “Now , as I was saying…”\n",
            "~~~~~~~~~~~~~~~~~~~~~~~~~~~~~~~~~~~~~~~~~~~~ To tell this story , I first have to tell you about myself, and about my\n",
            "homeworld, Gruar . As you are aware, Argruarians are generally not too kreen on exploring the outer reaches of the\n",
            "universe. While the rest of the ITZ would consider us to be less evolved than Ertians, we don’t see ourselves that way.\n",
            "Sure, our weapons and technology are poor compared to yours, and we didn’ t have written language prior to contact with\n",
            "the Ertian race, but we believe our way of thinking and our connection with the universe is eons beyond all Ertian. Did\n",
            "--------------------------------------------------------------------------------\n",
            "REFERENCE #7\n",
            "--------------------------------------------------------------------------------\n",
            "Matching Score: 0.7066420912742615\n",
            "Document Source: file//Council_of_Light\n",
            "Document Name: C\n",
            "................................................................................\n",
            "Content: \n",
            "Lucia pursed her lips in a grim expression. She could feel it too, like an electrical heaviness in the air. It was the\n",
            "same feeling she felt right before the Light Police attacked at the way station, but more stretched out and vague. \"I\n",
            "heard the Relliance took out an Solar Harnessing Core back where I was born, in Triangulum,\" she said. Dax nodded slowly\n",
            ". \"Yes, I heard the same.\" \"Whose side are you on?\" asked Lucia, unsure she wanted to hear the answer . \"There are far\n",
            "worse things in the universe than the Council of Light or the Relliance,\" replied Dax, \"it is those things that I am\n",
            "concerned with. Surely not a spetty fight between a group of wanna-be Gods, and a group of wanna-be heroes.\" \"But the\n",
            "Relliance wants to completely eliminate Solar Harnessing. That means no more intergalactic travel. Entire planets would\n",
            "be without power .\" \"The power of suns is not a gift that we can return, to be sure,” Dax responded. “The Relliance\n",
            "spreads the message that Solar Harnessing will be the eventual downfall of life, and say that is why they need to\n",
            "overtake the Cores. But what they are truly afraid of is losing control. No one seeks to attain power only to destroy\n",
            "it.\" Lucia remained silent. \"This one's a good listener Dax, I like that,\" said Ben. The mechanic had a slight slur to\n",
            "his speech. Whatever was in his cup must have been strong because Lucia had only seen him take a few sips. \"Come on\n",
            "Dax,\" he continued, \"enough of your politics. Tell us a funny story . The kid is clearly starved for conversation.\n",
            "Regaaaale us with one of your wise Argruarian tales.\" Lucia's eyes lit up at this. \"Ah, I’m tired Ben,” Dax responded.\n",
            "“I’ve been talking a lot and my throat is overtaxed. What about Marim? She’s barely said 20 words all day.” Dax gave a\n",
            "wry look in Marim’ s direction. It was true, Marim was not a woman of words, much less stories. She had remained\n",
            "stoically silent throughout the dinner , focusing on shoveling cream-covered sponge cake into her uncharacteristically\n",
            "--------------------------------------------------------------------------------\n",
            "REFERENCE #8\n",
            "--------------------------------------------------------------------------------\n",
            "Matching Score: 0.7049660682678223\n",
            "Document Source: file//Council_of_Light\n",
            "Document Name: C\n",
            "................................................................................\n",
            "Content: \n",
            "a member of the Argruarian species, but Lucia had never seen one act so…human. For the first time that day, she relaxed\n",
            "a bit. Lucia did a double-take as they walked past a heat sink from an industrial mining drill welded to a generator in\n",
            "the hallway . Not only was this ship a decommissioned police vessel, but it seemed to be pieced together with parts from\n",
            "a hundred different spacecraft. After descending a short flight of stairs, they arrived in a sizable, open area plainly\n",
            "decorated as a living space. \"This is the Great Room,\" announced Dax. His voice was guttural due to his alien throat,\n",
            "his words filled with “rrr” sounds that shouldn’ t be there. Lucia had been fortunate enough to have never seen the\n",
            "inside of a police Duster before, but she guessed that most of them didn't have a Great Room, which was probably why Dax\n",
            "was eager to show it off. \"Ben and I optimized the fission block so that it only takes up half the space, allowing us to\n",
            "expand this room out a good five square meters. Also we cannibalized the kitchen, to be sure. I found this dulcious,\n",
            "aqua couch in an edge-dogs pad, if you can believe it!\" Lucia smiled politely . \"It's very...great!\" she said. Dax\n",
            "smiled back. \"Ben is our, er, mechanic. You'll probably meet him soon.\" As if summoned, a man in a dark jumpsuit with a\n",
            "bandana around his neck appeared at the top of the stairs on the far side of the Great Room. He had messy hair that was\n",
            "equal parts brown and gray, though his face was young. He was covered in dirt and hadn't shaved in a while, which made\n",
            "his light gray eyes pop even from across the room. \"I thought the guy was supposed to be Ataxi?\" He said, not moving\n",
            "from the top of the stairs. \"He was, we can be almost sure,\" said Dax. \"We don't know because the Lighters got there\n",
            "before us.\" \"God dammit, we needed that Red,” the man groaned. “So who the fuck is this then?\" \"She can cook,\" said\n",
            "Marim, with authority . \"Oh. Does she fabricate the food too? Cause we're going to need someone who\n",
            "--------------------------------------------------------------------------------\n",
            "REFERENCE #9\n",
            "--------------------------------------------------------------------------------\n",
            "Matching Score: 0.6963390111923218\n",
            "Document Source: file//Council_of_Light\n",
            "Document Name: C\n",
            "................................................................................\n",
            "Content: \n",
            "Lucia rubbed the back of her neck. She had just enough Flubian cheese to make ghiken melts for four sents, not five.\n",
            "Having ditched the hydrogen bomb, and the curious Light Police that were altered by it, they had jumped back to the\n",
            "Tarisian galaxy , which they now floated through, waiting for a new bounty . She could cut the cheese slices she had in\n",
            "half, but then it wouldn’ t taste nearly as good. It would be a few days before they would make it to a waystation,\n",
            "traveling at their fuel-conserving speed. Maybe she’d just make salads. “I don’t have enough supplies for ghiken melts\n",
            "for all of us, sorry Dax,” Lucia shouted over her shoulder to the Great Room. Goose pulled at the collar around his\n",
            "neck, looking at the perturbed Argurian sitting on the couch across from him. Upon confirming that he was too new of a\n",
            "Ruff Gang member to have any bounty on his head, the bounty hunters were content to keep Goose a prisoner , to be used\n",
            "to bait Alfred A, should he ever show his face again. Goose was about as happy a prisoner as there could be, knowing\n",
            "that he wouldn’ t survive long on Taris now that he’d been labeled a traitor of the Ruff Gang. Dax kept him in check\n",
            "with a proximity collar that was anchored to his belt, so Goose was forced to follow the Argurarian around. “Just make\n",
            "me one then,” Dax shouted back. “Goose can eat a ready-made meal.” Goose was more than fine with that, but he had a\n",
            "question he’d wanted to ask since he’d been ‘captured’ two days ago. They were already upset with him, so he might as\n",
            "well go for it. “Can I call my mom?” he asked. Dax let out a low grumble. “Your mom?” “Yeah, she lives in a monastery\n",
            "out in a Tarisian satellite galaxy . She’s waiting at a phone booth to talk to me.” “She has to use a phone booth?” Dax\n",
            "asked. “Yeah, she uses a special com-palm that isn’t integrated into the new Jintum network, and the Ertian Empire hasn’\n",
            "t built an entangled tower out there. So they just have the entangled phone booth.” “Unsure why she’d choose to\n",
            "................................................................................\n",
            "Response: Dax is from the planet Gruar.\n",
            "................................................................................\n"
          ]
        }
      ],
      "source": [
        "ask(\"What planet is Dax from?\")"
      ]
    },
    {
      "cell_type": "code",
      "execution_count": null,
      "metadata": {
        "id": "z5eFMYteE29Q",
        "outputId": "a9bdceae-0d38-4497-d2a3-1b824501b5b6"
      },
      "outputs": [
        {
          "name": "stdout",
          "output_type": "stream",
          "text": [
            "\n",
            "\n",
            "\u001b[1m> Entering new RetrievalQA chain...\u001b[0m\n",
            "Waiting\n",
            "\n",
            "\u001b[1m> Finished chain.\u001b[0m\n",
            "Query: Who is the villain in the novel?\n",
            "................................................................................\n",
            "--------------------------------------------------------------------------------\n",
            "REFERENCE #0\n",
            "--------------------------------------------------------------------------------\n",
            "Matching Score: 0.6750061511993408\n",
            "Document Source: file//Council_of_Light\n",
            "Document Name: C\n",
            "................................................................................\n",
            "Content: \n",
            "NOW IF THIS WAS THE SOR T OF STORY where the audience was allowed to ask questions, one might now ask this question:\n",
            "‘Ben, wasn’ t the point of this whole play to procure the location of the Solar Harnessing Cores so that you can sell\n",
            "them to the Relliance? Why would you alert Petrus to that threat, even if you’re blaming it on someone else?’ And I\n",
            "would say, ‘thank you for noticing, how very bright you are, you definitely needed to interrupt me.’ Indeed, you have\n",
            "noticed a detail that might be mistaken as a lack of creativity . However , this is yet another one of Artemis’ tricks:\n",
            "Don’ t make shit up if you don’t have to. This is why I always use my real first name when doing a play. No one I’m\n",
            "interacting with knows who I am, so why would I change my name? It’s what I naturally respond to, and one less detail I\n",
            "have to remember . Petrus already knows that the Relliance wants to get the Core’ s location. That threat is as real as\n",
            "my name. What I need to fabricate is exactly who that threat is coming from. And ultimately , it was completely\n",
            "irrelevant what the fake betrayal was about; all that matters is that I am the one to expose it. Crunch the numbers,\n",
            "stay as close to reality as possible, prove your loyalty , and leave no trace — Artemis always said that if I followed\n",
            "her rules, the outcomes I desired would come true as if by magic. I had no idea how accurate that was. I decided pretty\n",
            "early on who I would select as the scapegoat for this play. Gingil, one of Petrus’ closest sycophants, and Class A ball\n",
            "sniffer. His position close to Petrus, yet slightly below him made him the perfect candidate for a slimy power grab.\n",
            "Plus he truly was the biggest tool in the galaxy . The man even looked like a villain, with jet black hair and eyes to\n",
            "match. Now , exposing a betrayal is a surprisingly difficult thing to do, whether real or fabricated. Success rests on\n",
            "who is the more trustworthy – the whistleblower , or the accused. Video can be created, documents altered,\n",
            "--------------------------------------------------------------------------------\n",
            "REFERENCE #1\n",
            "--------------------------------------------------------------------------------\n",
            "Matching Score: 0.6470786929130554\n",
            "Document Source: file//Council_of_Light\n",
            "Document Name: C\n",
            "................................................................................\n",
            "Content: \n",
            "bun on top of her head. “Can you tell us now, what you plan to do with Amican if we find him?” Sorah asked. We’d kept\n",
            "our murderous intentions secret, not wanting to worry the family . Today , however , Sorah was not asking, she was\n",
            "demanding. “We’re going to kill him,” Elle said, before I could speak. Sorah raised her eyebrows almost to her hairline.\n",
            "“ Kill Amican? I thought the whole point of this was to get him to destroy the Foreman Core.” “Once he tells us how to\n",
            "do that, we’re going to kill him,” Elle said authoritatively . Auntie Sorah blew disbelieving air through her wide\n",
            "nostrils. “You’ll never be able to kill that man. Voids, he’s not even a man.”\n",
            "--------------------------------------------------------------------------------\n",
            "REFERENCE #2\n",
            "--------------------------------------------------------------------------------\n",
            "Matching Score: 0.6461058855056763\n",
            "Document Source: file//Council_of_Light\n",
            "Document Name: C\n",
            "................................................................................\n",
            "Content: \n",
            "“Fucking finally ,” said Dax, bringing the mug to his snout for a long, cold sip. “That’ s good shit, to be sure. Now\n",
            "Ben, kindly tell me why I had to walk all over this beggardly town to get it?” “We had to be seen. So that Alfred knows\n",
            "where to find us.” “That’ s your master plan? To go bar hopping until he finds us?” “Yup,” Ben took a long swig from his\n",
            "mug. “I don’t know why I expected anything else from you.” “Why did we have to wait 9 days?” Lucia asked. “Hey , yeah,\n",
            "why did we have to wait 9 days?” Dax copied. “In order to give him enough time to figure out we’re the ones who killed\n",
            "his people. And to tell the rest of his gang.” “You gave him 9 days for that? Why give him so much time to tell all his\n",
            "boonies? If he does manage to find us, he’s surely going to be prepared to kill us.” “ When he finds us. Which should be\n",
            "in about one minute.” “Arr, that’s not the point, Ben. Are you intentionally making this harder for us?” Dax asked. Ben\n",
            "responded by downing the remaining half of his beer. Right on cue, three cleanly-dressed men that looked unmistakably\n",
            "like criminals entered the bar. The shortest man in front, who looked unmistakably like Alfred A, pointed a long-nailed\n",
            "finger at Ben. “You.” “Phew , I almost didn’ t have time to finish my beer,” Ben said out of the corner of his mouth to\n",
            "Dax, following it with a wink. “You’re fucking dead,” Alfred continued, pulling a gun from his side holster , ready to\n",
            "kill. Just as the gun’s gold tip crested the tip of the holster , three thin beams of white-purple light shot down from\n",
            "the ceiling and up from the floor , piercing through the middle of each of the three men. Their bodies were instantly\n",
            "frozen in place, skewered on a beam of light. “Boom!” Ben swept his hand in a semi-circle and laughed in true delight.\n",
            "“That’ s how you do it! Excellent placement Marim.” He walked over to the warrior woman and clapped her on the shoulder\n",
            ". She nodded, a hint of a smile visible on her lips. Most of the patrons fled from the\n",
            "--------------------------------------------------------------------------------\n",
            "REFERENCE #3\n",
            "--------------------------------------------------------------------------------\n",
            "Matching Score: 0.6418951153755188\n",
            "Document Source: file//Council_of_Light\n",
            "Document Name: C\n",
            "................................................................................\n",
            "Content: \n",
            "“What I’m trying to figure out is how you know Artemis. You’re too young to be a genuine colleague of hers, and you\n",
            "clearly care about her, so you’re not just some sap that she recruited a couple of days ago to get to me.” Petrus\n",
            "twirled the gun he was holding in his hand around his index finger . “Now , I try to keep my ear to the telegraph,\n",
            "especially for news of anything having to do with this particular woman. And a few years ago, I was told that Artemis\n",
            "had saved a child from a tragic accident on a planet called Pluora. In fact, as the rumor was told, they were the only\n",
            "two survivors of that tragic accident. Now , this sounds completely crazy , but I’m starting to think that you might be\n",
            "that child .” Petrus put the gun to my face, and traced it across my nose. “Is that why you have this hideous scar? Were\n",
            "you hurt during the chaos?” I shot beams of malice from my eyes, unable to do anything else. Petrus let out a single,\n",
            "emotionless shout, “AH! Can it really be true? I must know . Tell me, Ben, are you really from Pluora? Give me a good\n",
            "cough if I’m right.” I didn’ t know what was happening, but I knew I wasn’ t going to tell Petrus anything about my true\n",
            "past. Not a chance in the emptiest voids of space. “So it’s not true? Or are you being difficult? Guh, you people are so\n",
            "aggravating!” He bent down and picked me up with alarming strength, as though he were picking up a dirty shirt from the\n",
            "ground. He dropped me against the nearest wall with a loud thud, pain exploding through my body as I fell to the ground,\n",
            "facing Artemis’ prone form. As Petrus walked over to her, she began making a hissing sound. Petrus stood over her, legs\n",
            "spread, and kicked her head to the side so that she could see me. She continued hissing, now looking intently at me. Was\n",
            "she trying to tell me something? “Hsssssssssssssss…” “What is this sound you’re making? Why are you doing that?” Petrus\n",
            "asked, irritated. “Hssssssssssssyyyyyyyyyyyy…..hssssssssyyyyyyyyyyyy…..” She was trying to say\n",
            "--------------------------------------------------------------------------------\n",
            "REFERENCE #4\n",
            "--------------------------------------------------------------------------------\n",
            "Matching Score: 0.6414251327514648\n",
            "Document Source: file//Council_of_Light\n",
            "Document Name: C\n",
            "................................................................................\n",
            "Content: \n",
            "“There is truly nothing we could offer him,” Elle said, coldly . “He has no family , no vices, only what’ s left of his\n",
            "life.” “Even if there was something we could offer, we have no way to get in contact with him,” I said. “We have a\n",
            "planet. Which may or may not even be the planet he’s on. That’ s it.” “We have to force him out,” Elle said, “like a\n",
            "mole from it’s hole.” Y’ra looked up. Sorah caught his eye. “What is it?” she asked him, as though she wasn’ t sure she\n",
            "wanted to know . Y’ra smiled devilishly , his red moustache enhancing the look. “I’m thinking Pontilongo, but on a\n",
            "planetary scale.” Sorah’ s eyes widened. “You’re mad.” “What is Pontilongo?” Elle asked impatiently . “Not what, where,”\n",
            "Y’ra responded, leaning his hefty belly forward in his seat. “It’s a town on Andes. I did a job there with Ibis and my\n",
            "partner Yum, more years ago than I care to count. We had to catch a mark, but he’d holed himself up in a high security\n",
            "tower . We weren’ t going to make it into the lobby , much less his apartment. So we smoked him out.” “With smoke?\n",
            "Poison?” Elle asked. “You could call it a poison, but it ain’t deadly . Pink parathemane, my own variant. It’s a noxious\n",
            "powder that can be easily aerosolized. Get it anywhere near your eyes or skin, and you’re gonna want to get the hell out\n",
            "of wherever you are. It won’ t get stopped by even high-grade filters, and it can only be neutralized by my own\n",
            "concoction.” “How did you get it into the tower , on Pontilongo?” I asked. “Well, we didn’ t know where in the tower\n",
            "this izzer was hiding, much like our situation now, you see. So we shot a bomb full of the pink stuff directly into the\n",
            "tower ’s ventilation center . Blew a hole right through the side of the building, totally wrecked the HVAC, but spared\n",
            "the air turbine. And that baby blew the parathemane all through the tower . Ten minutes later, every dunk in the place\n",
            "was out on the street, coughing and crying their eyes out. Including our mark,” Y’ra finished with a wink.\n",
            "--------------------------------------------------------------------------------\n",
            "REFERENCE #5\n",
            "--------------------------------------------------------------------------------\n",
            "Matching Score: 0.6408273577690125\n",
            "Document Source: file//Council_of_Light\n",
            "Document Name: C\n",
            "................................................................................\n",
            "Content: \n",
            "I was reminded of the times we would gather around the dinner table at Y’ra’ s home in Folina. The warm smiles, the\n",
            "smell of the delicious food only inches from my face. My thoughts returned to Amican, and any joviality from the family\n",
            "reunion was sucked through the floor , leaving only sober determination. We were here to catch a psychopath. How we were\n",
            "going to do that, I had no idea. I looked at Uncle Y’ra’ s thick black boots, Theo’ s stylish white sneakers, and Elle’\n",
            "s elegant yet practical flats, praying that one of them would have something to say, because I had nothing. “So we have\n",
            "to lure Amican out of his hiding place,” Sorah started. “Don’ t suppose you could offer him a treat?” Y’ra half-joked.\n",
            "--------------------------------------------------------------------------------\n",
            "REFERENCE #6\n",
            "--------------------------------------------------------------------------------\n",
            "Matching Score: 0.6407829523086548\n",
            "Document Source: file//Council_of_Light\n",
            "Document Name: C\n",
            "................................................................................\n",
            "Content: \n",
            "high-end Alcubierre Drives are produced. Any member of the gang is going to fetch us some Red, but the prize poog is\n",
            "Alfred A, the leader of the faction in this galaxy . It is unsure who from the gang is here tonight, so I’m sending you\n",
            "all their profiles to study up on.” Dax flicked his Com-Palm and Lucia’ s wrist buzzed with a new package. “Read them\n",
            "inside the club, I’m ready for a drink,” said Ben, as he began walking down the street. Lucia made sure the privacy\n",
            "setting was enabled on her Com-Palm and began reading the various gang members’ profiles, lagging behind the group as\n",
            "they made their way down the street and into yet another crumbling building. The leader of the gang, Alfred A, was a\n",
            "short human with short hair and a large nose. In his public picture, he was covered in red and purple tattoos, but his\n",
            "bounty profile said he was subject to change them often. The member with the second highest bounty was a black-haired\n",
            "woman with nearly as many aliases as she had suspected murder victims. She was beautiful, in a terrifying sort of way.\n",
            "Lucia suddenly felt an all too familiar pit begin to form in her stomach. “Hey Lucia, why don’t you put that screen down\n",
            "for a second and have a drink with us?” Dax pushed down Lucia’ s hand from in front of her face and placed a drink into\n",
            "it. Lucia accepted the glass and stared at it. “You know , I wouldn’ t be able to drink this if we were on my homeworld.\n",
            "The second the alcohol hit my tongue my body would seize up, because of my age.” Dax sighed, “Yeah I know , I’ve spent\n",
            "plenty of time in the Hyell parts of the Ertian Empire. Saw a kid try it once, even though he knew it was forbidden.\n",
            "It’s not such an awful place, though, once you let go of a little control.” “I just can’t imagine going back to letting\n",
            "someone else decide what I can and cannot do.” “It’s a society . There has to be rules. And everyone has to follow those\n",
            "rules for the society to function properly . Some would consider it a small price to pay for never\n",
            "--------------------------------------------------------------------------------\n",
            "REFERENCE #7\n",
            "--------------------------------------------------------------------------------\n",
            "Matching Score: 0.6403300762176514\n",
            "Document Source: file//Council_of_Light\n",
            "Document Name: C\n",
            "................................................................................\n",
            "Content: \n",
            "“We ask Petrus for help. Before you say anything, hear me out. This guy trusts me like a son. And he has a zero\n",
            "tolerance policy for leaks. Artemis, I watched him kill one of his colleagues today because he thought that he might be\n",
            "trying to steal information from Phalareon.” Artemis ‘hmm’ed. “That’ s the murder you were talking about. I expect a\n",
            "full report on what happened when all of this is done, you know .” “Of course.” “That being said, I think you’re right.\n",
            "But how can we use Petrus to stop this?” “We tell him what’ s going on. Not about Silen, but that Phalareon information\n",
            "is being sold. He already thinks Gingil was conspiring to sell it. We know the time and the place that Silen will be\n",
            "there for the deal, so we tell Petrus and he brings down the full might of a major corporate entity on Silen’ s head.”\n",
            "Artemis nodded. “Good. Surely he’ll come after me if I give him this information, though?” “You’re the queen of escape\n",
            "plans, I’m sure you can come up with something.”\n",
            "--------------------------------------------------------------------------------\n",
            "REFERENCE #8\n",
            "--------------------------------------------------------------------------------\n",
            "Matching Score: 0.6399358510971069\n",
            "Document Source: file//Council_of_Light\n",
            "Document Name: C\n",
            "................................................................................\n",
            "Content: \n",
            "Lucia pursed her lips in a grim expression. She could feel it too, like an electrical heaviness in the air. It was the\n",
            "same feeling she felt right before the Light Police attacked at the way station, but more stretched out and vague. \"I\n",
            "heard the Relliance took out an Solar Harnessing Core back where I was born, in Triangulum,\" she said. Dax nodded slowly\n",
            ". \"Yes, I heard the same.\" \"Whose side are you on?\" asked Lucia, unsure she wanted to hear the answer . \"There are far\n",
            "worse things in the universe than the Council of Light or the Relliance,\" replied Dax, \"it is those things that I am\n",
            "concerned with. Surely not a spetty fight between a group of wanna-be Gods, and a group of wanna-be heroes.\" \"But the\n",
            "Relliance wants to completely eliminate Solar Harnessing. That means no more intergalactic travel. Entire planets would\n",
            "be without power .\" \"The power of suns is not a gift that we can return, to be sure,” Dax responded. “The Relliance\n",
            "spreads the message that Solar Harnessing will be the eventual downfall of life, and say that is why they need to\n",
            "overtake the Cores. But what they are truly afraid of is losing control. No one seeks to attain power only to destroy\n",
            "it.\" Lucia remained silent. \"This one's a good listener Dax, I like that,\" said Ben. The mechanic had a slight slur to\n",
            "his speech. Whatever was in his cup must have been strong because Lucia had only seen him take a few sips. \"Come on\n",
            "Dax,\" he continued, \"enough of your politics. Tell us a funny story . The kid is clearly starved for conversation.\n",
            "Regaaaale us with one of your wise Argruarian tales.\" Lucia's eyes lit up at this. \"Ah, I’m tired Ben,” Dax responded.\n",
            "“I’ve been talking a lot and my throat is overtaxed. What about Marim? She’s barely said 20 words all day.” Dax gave a\n",
            "wry look in Marim’ s direction. It was true, Marim was not a woman of words, much less stories. She had remained\n",
            "stoically silent throughout the dinner , focusing on shoveling cream-covered sponge cake into her uncharacteristically\n",
            "--------------------------------------------------------------------------------\n",
            "REFERENCE #9\n",
            "--------------------------------------------------------------------------------\n",
            "Matching Score: 0.6398830413818359\n",
            "Document Source: file//Council_of_Light\n",
            "Document Name: C\n",
            "................................................................................\n",
            "Content: \n",
            "“Glad to hear you’re still in the family business,” Uncle Y’ra said. “Last I heard, you were tied up in a drug\n",
            "syndicate. Is that still your main gig?” Of course Y’ra would be proud of my Xarabee syndicate. After all, he was the\n",
            "one who taught me how to manufacture drugs. “That was a sweet gig for a while. Honestly , I’m not sure who’ s running\n",
            "that show now. I’ve got bigger fish to fry.” Theo’ s head suddenly popped up between Y’ra and Sorah. “Family! What’ s\n",
            "bright, eh? Alli, you’re still alive! And you’ve got a pretty bitty with you!” “This is Elle, my professional partner .”\n",
            "I would have rather kissed an Ataxi than delved into our complicated relationship. “Why are they calling you Alli?” Elle\n",
            "asked. I grimaced. “It was a nickname when I was a kid. Which I’m not anymore,” I said pointedly . “Ok, ok. I know how\n",
            "it is, Ben, ” Theo conceded. “So, what’ s the thing? Why are we seeing your ugly mug again?” I ran a hand through my\n",
            "hair and launched into the long background of the situation we now found ourselves in. Uncle Y’ra nearly exploded when\n",
            "he learned I had met some of the Councilmembers. They were all stunned into silence when I dropped the news about the\n",
            "fatal radiation. It didn’ t take much convincing to make them believe Amican was responsible for it, as they had all\n",
            "been raised with more than a healthy dose of skepticism toward the Council. As a result, they were not thrilled to learn\n",
            "that Elle was a former student of Amican’ s protege. Of course, I left out the fact that she was also related to Aldus\n",
            "Ertian, and had worked for the Council most of her life. Trust would have to be built between them; my vote of\n",
            "confidence wouldn’ t be enough. “Who told Elle here that Amican is on New Xin?” Y’ra asked. Elle looked at me\n",
            "expectantly . I stared back at her, wanting to know the answer myself. With every second that passed, I could feel my\n",
            "family’ s suspicion growing. “Her former professor told her,” I finally said. “They keep in touch apparently , Professor\n",
            "................................................................................\n",
            "Response: The villain in the novel is American. He is a powerful and ruthless man who is willing to do anything to get what he\n",
            "wants. He is responsible for the death of many people, and he is a threat to the entire galaxy.\n",
            "................................................................................\n"
          ]
        }
      ],
      "source": [
        "ask(\"Who is the villain in the novel?\")"
      ]
    },
    {
      "cell_type": "code",
      "execution_count": null,
      "metadata": {
        "id": "8vTYDsNiFAe1",
        "outputId": "def9aad2-6586-45ae-c429-fff5a1c7baa3"
      },
      "outputs": [
        {
          "name": "stdout",
          "output_type": "stream",
          "text": [
            "\n",
            "\n",
            "\u001b[1m> Entering new RetrievalQA chain...\u001b[0m\n",
            "Waiting\n",
            "\n",
            "\u001b[1m> Finished chain.\u001b[0m\n",
            "Query: How does Ben defeat Silen?\n",
            "................................................................................\n",
            "--------------------------------------------------------------------------------\n",
            "REFERENCE #0\n",
            "--------------------------------------------------------------------------------\n",
            "Matching Score: 0.7198085188865662\n",
            "Document Source: file//Council_of_Light\n",
            "Document Name: C\n",
            "................................................................................\n",
            "Content: \n",
            "“It is true, Ben. Remember when that Crucian escaped from the holding cell?” “She was big for a Crucian. And she caught\n",
            "me by surprise.” “She was four feet tall.” “Ok well now my honor really is insulted. I’m doing this.” He pulled the\n",
            "bandana around his neck up over his head. It pushed his hair out into a spiky fan around his face, making him look\n",
            "crazed. “You’re drunk.” “And he’s going to be a little slow from the immobilization beam. See, balance in the universe.”\n",
            "Ben began removing his own weapons. Dax looked at Marim, who leaned forward from the wall to immobilize Ben in her own\n",
            "way. Ben held up a hand to stop her. “Ah ah ah. Only I can control these immobilization beams. Without me, these three\n",
            "are going to be stuck here until the batteries in the devices run out. And let me tell you, they’ll have gone blind from\n",
            "lack of ocular lubrication months before that happens.” Marim sighed and backed away . She was sure that she was going\n",
            "to capture the criminal by the end of this, what did it matter if Ben wanted to get himself beaten up first. “Alright,\n",
            "let’s do this. You ready , fingerlicker?” “‘Ersona shiel’ osh.” Ben smirked. “You do have a clever bone somewhere in\n",
            "there. Ben tapped his Com-Palm. “Personal shield off. Now on the count of three….three, two, one!” Ben tapped his Com-\n",
            "Palm again and the beam holding Alfred disappeared. Alfred’ s knees buckled slightly and his arms went limp. The\n",
            "gangster barely had time to blink away the disorientation before he received a clean punch directly to his face,\n",
            "knocking him completely off his feet. “How’ s that for a fair fight?” Ben shouted down at him, grinning madly . Alfred\n",
            "leapt to his feet with surprising speed and swung at Ben from the left. The mechanic reacted quickly and clumsily ,\n",
            "bending so far back to avoid the hit that he lost his balance. Alfred quickly came in from the right, and Ben again\n",
            "flung his body away to avoid the hit. Alfred, seeing his opportunity , rushed forward, causing Ben to whip his body\n",
            "--------------------------------------------------------------------------------\n",
            "REFERENCE #1\n",
            "--------------------------------------------------------------------------------\n",
            "Matching Score: 0.714112401008606\n",
            "Document Source: file//Council_of_Light\n",
            "Document Name: C\n",
            "................................................................................\n",
            "Content: \n",
            "“Hmm ok, will have to tweak that a bit. Humans can’t go very long without blinking before your eyes start to get\n",
            "suuuuuper dry. Like deserts, crying out for even a drop of water . Craving just one blink…” Alfred growled through his\n",
            "teeth. Ben smiled and turned back to Lucia. “Pretty cool right? Immobilization beams, they target the spine and render\n",
            "the victim totally , well, immobile. Not completely immoble, of course, you still need your lungs for breathing and\n",
            "tongue for swallowing and heart for blood stuff. I have to admit, it’s taken a few iterations to get that part\n",
            "completely right. Heh…” Ben ran his hand through his hair. “Anyways, I had Marim set up the generation devices when we\n",
            "first walked in.” Ben bent over and picked up a small circular disk off of the floor . “I expected a couple more boonies\n",
            "to show up so there’ s a few left over.” He pointed to the ceiling of the bar where there were five disks in an almost\n",
            "straight line to match the ones on the floor . “Nice aim Marim.” Marim nodded again. Ben turned back to Alfred and\n",
            "sighed. “Really was expecting more of a fight. Shame.” “Fi’ ne ‘en, you ‘ucking cud.” “Fight you? What, like in a judo\n",
            "ring?” “Ri ‘ere. Les ‘ucking fi’.” “I don’t get it. You want me to let you go, and then let you shoot me?” “No gunsh.\n",
            "Jus’ hansh.” Ben looked over to Marim with an utterly confused look on his face. “Am I hearing him right?” Marim\n",
            "explained. “He wants to engage in hand to hand combat. It is an ancient practice, centered around personal honor . By\n",
            "removing any weapons or handicaps, you are bringing balance to the disagreement, allowing the universe to reveal who is\n",
            "truly the right one.” “So the universe is going to reveal that one of us is right by beating the other one to death?\n",
            "What about not using guns makes it a fair fight? What if he’s had years of punching training?” “As I said, it is an\n",
            "ancient practice.” “Weird. I’ve seen similar practices on distant worlds but wasn’ t expecting to get challenged like\n",
            "this\n",
            "--------------------------------------------------------------------------------\n",
            "REFERENCE #2\n",
            "--------------------------------------------------------------------------------\n",
            "Matching Score: 0.7029804587364197\n",
            "Document Source: file//Council_of_Light\n",
            "Document Name: C\n",
            "................................................................................\n",
            "Content: \n",
            "Chapter 18 - Day 30 - All will be revealed in time Lucia breathed for the first time in an hour. She began panting as\n",
            "her mind turned over the words Ben had spoken. Her mouth stumbled as it tried to ask three questions at once. “Hwha did\n",
            "you, um, where is Silen now? I mean, I know he - um - It can be multiple places at once, but, who does It…who is It in\n",
            "control of now?” Ben answered. “I’ve killed just about every one that I have come across. But I haven’ t seen one in a\n",
            "long time.” “Then, It’s not a threat anymore?” Lucia continued. “He’ s stopped looking,” said Dax, flicking his ears.\n",
            "Ben took a deep swig from a bright blue bottle he had been hiding in his jumpsuit pocket. “Far from it. Silen is only\n",
            "getting better at masking who It is. And It is gaining the ability to control more minds here as It assimilates worlds\n",
            "closer to our realm. You should look out for birds, Lucia. It likes birds.” “It can assimilate birds?”\n",
            "--------------------------------------------------------------------------------\n",
            "REFERENCE #3\n",
            "--------------------------------------------------------------------------------\n",
            "Matching Score: 0.7001048922538757\n",
            "Document Source: file//Council_of_Light\n",
            "Document Name: C\n",
            "................................................................................\n",
            "Content: \n",
            "“Anything smarter than a gnat but dumber than your average Professor . There is some wiggle room outside of that of\n",
            "course, as you learned with Petrus.” “By the Council...Marim, Dax, you both knew about this…species?” They both nodded\n",
            "in the affirmative. Marim added, “I did not know of the Silen until I met Ben. Now we have a special contract, where we\n",
            "are paid the largest bounties for any of the Silen we kill.” “You’re not supposed to tell anyone about that, Marim,” Ben\n",
            "said. “The girl is ok. She is trustworthy , and part of our team.” Ben waved his hand. “Fine, whatever . I’m done\n",
            "talking about Silen, about Artemis, about soffing tertiary school. The next part of the story is the best part. This\n",
            "chapter is where I have fun, make tons of money and boff lots of hot bitties.” Ben raised his hand for a high-five from\n",
            "Dax, who slapped it with a chuckle. Ben then offered his raised palm to Marim, who returned it with a death stare. Ben\n",
            "slapped his own hand and grinned, clearly pleased with himself. Lucia ignored the exchange and launched into another\n",
            "question. “But why don’t we—“ Ben held up his hand again, this time to signal ‘stop’. “Lucia Lucia Lucia. The deal was,\n",
            "I would tell you my story , and you would stop asking me questions.” “I never made a deal with you.” Ben cocked his head\n",
            "to the side. “Wait really? That can’t be right…”. He looked up, trying to think. “Soff it, I must have been high, I\n",
            "can’t remember .” He sighed. “I meant to make it a deal, so can’t you just honor that?” Lucia frowned. “But I have so\n",
            "many questions.” Ben put his hands on her shoulder . “Just trust, Lucia, that all will be revealed eventually . I can’t\n",
            "just spoil the whole story for you, that’s bad television.” He looked her square in the eyes, willing her to understand.\n",
            "Lucia felt naked beneath his gaze. How did he do that? She stood from the yellow couch, folded her arms over her chest\n",
            "and stormed off without another word. Ben was almost sad to see her go. Almost. “I guess I’ll pick\n",
            "--------------------------------------------------------------------------------\n",
            "REFERENCE #4\n",
            "--------------------------------------------------------------------------------\n",
            "Matching Score: 0.6969728469848633\n",
            "Document Source: file//Council_of_Light\n",
            "Document Name: C\n",
            "................................................................................\n",
            "Content: \n",
            "that one of us is right by beating the other one to death? What about not using guns makes it a fair fight? What if he’s\n",
            "had years of punching training?” “As I said, it is an ancient practice.” “Weird. I’ve seen similar practices on distant\n",
            "worlds but wasn’ t expecting to get challenged like this here. Hmm.” Ben tapped Alfred on the forehead a few times.\n",
            "“Maybe we can get some fun out of you yet.“ Ben started fleecing Alfred’ s body , removing guns and sticks and anything\n",
            "that looked remotely like a weapon. “Ben, this is not a good idea,” Dax said. “We have him, let’s get the 300k and be\n",
            "done with it.” “Na, na, na. This guy insulted my, my honor!” Ben couldn’ t help but let out a little laugh. “I hate to\n",
            "be the one to bring this up, but you are terrible at hand to hand combat,” Dax said. “Marim, back me up here.”\n",
            "--------------------------------------------------------------------------------\n",
            "REFERENCE #5\n",
            "--------------------------------------------------------------------------------\n",
            "Matching Score: 0.6869267821311951\n",
            "Document Source: file//Council_of_Light\n",
            "Document Name: C\n",
            "................................................................................\n",
            "Content: \n",
            "would win, the Ertian Empire would remain, the galaxies would keep spinning, but we’d be doomed. I would have to watch\n",
            "all those people die… “Ben, listen to me,” she said, piercing me with her gaze, “we have to find Amican.” I scratched\n",
            "the skin on the top of my head until my fingernails were full of dead cells. “And what, make him tell us how to shut the\n",
            "Core down?” “Yes.” “He’ s been kicked out of the Council of Light and even they don’t know where he is. Wouldn’ t we\n",
            "have an easier time trying to convince your father , or one of the other members to help us?” “The fact that he’s no\n",
            "longer in the Council is exactly why he’s the only one who can help us. Besides, I believe my father when he says he\n",
            "doesn’ t know how to shut down the Core. Amican took over the Solar Harnessing project from Cerisan, who took over from\n",
            "Zaerpath Foreman himself, before there even was a Council. With each handof f, the Core secrets have\n",
            "--------------------------------------------------------------------------------\n",
            "REFERENCE #6\n",
            "--------------------------------------------------------------------------------\n",
            "Matching Score: 0.6856882572174072\n",
            "Document Source: file//Council_of_Light\n",
            "Document Name: C\n",
            "................................................................................\n",
            "Content: \n",
            "“Had I known this man had already interacted with Silen, I would have never let you near him. When Silen comes across a\n",
            "desirable host that It is not able to assimilate, It marks that host. To keep track of the victim, so that when It has\n",
            "more power , It can return to claim him.” He locked his eyes onto me. “Or to kill him, if he proves to be too much\n",
            "trouble.” Elle took a step toward her father . “Why would you keep this from me, if you wanted to protect me?! How can I\n",
            "avoid an alien that I don’t even know exists!” “Even thinking about Silen can draw It’s tendrils closer . Elle, you\n",
            "question that I know what is best.” She looked at her father , her eyes filling with tears, pleading with him to stop.\n",
            "“To you Elle, I have only this one thing more to say. If you decide to continue down this path, I will not come to your\n",
            "rescue next time. You will feel the consequences of your mistakes.” In a flash, she was gone from the empty white room,\n",
            "leaving only Aldus and I. Aldus put his hands behind his back, the long arms of his robe gracefully arcing through the\n",
            "air as they moved. “Ben, on this 12th day of July, you are hereby forbidden from stepping foot on any planet, colony or\n",
            "waystation within the Ertian Empire. Your punishment might have been more severe, but we appreciate that you have dealt\n",
            "with Amican.” He pivoted slightly , his robe spinning majestically with him. “Stop!” I shouted with a power I’d never\n",
            "felt before. I wasn’ t going to let him disappear without answering my question this time. I was a force to be reckoned\n",
            "with. Aldus turned back to me. “My homeworld. Pluora . Why did Silen destroy it?” Aldus’ long, white eyebrows raised,\n",
            "revealing his glistening eyes. “You…you are a child of Pluora?” This was the first real question he’d ever asked me.\n",
            "“Yes. I escaped in a pod, before the implosion began. When I met Silen, he told me he ordered the Utopian planets to be\n",
            "destroyed, that they weren’ t poorly built. Why would this alien want them gone?” Aldus took a few\n",
            "--------------------------------------------------------------------------------\n",
            "REFERENCE #7\n",
            "--------------------------------------------------------------------------------\n",
            "Matching Score: 0.6834954023361206\n",
            "Document Source: file//Council_of_Light\n",
            "Document Name: C\n",
            "................................................................................\n",
            "Content: \n",
            "made it to room 3211, as the man had directed them to. A scan of his face unlocked the door, and the gang fell inside.\n",
            "The apartment was plain but messy , giving it the appearance that whoever lived there didn’ t think of it as a home as\n",
            "much as a hotel room. The appliances and furniture were distinctly Tarisian, in that none of them matched. A mostly\n",
            "bare, but ornate black-wood shelf sat next to a simple inner -Ertian-style gray couch, which bore a faded brown stain on\n",
            "its seat. “What is your name?” Lucia asked the hog-tied gang member . “Goose,” he muffled, his yellowish tan face\n",
            "partially smothered in Marim’ s heaving back. Marim deposited a groaning Ben onto the grey couch. She was not as gentle\n",
            "setting him down and she had been picking him up, still angered over the loss of the bounty . She placed Goose in a\n",
            "striped yellow and black love seat. “You stay put, now,” Marim said sternly to Goose, who was still tightly bound at the\n",
            "hands and feet. She then smiled, as this was Marim’ s idea of a joke. “I don’t think we have to worry about him\n",
            "escaping,” said Ben, missing the joke. Lucia humfed, “Not unless you were planning on challenging him to a fist fight\n",
            "too.” Ben sat up to look at Lucia over the back of the couch. “Alfred challenged me!” He winced and laid back down\n",
            "defeated, grumbling something about honor . Dax lightly nudged Lucia. “Doesn’ t matter how many times he gets his\n",
            "pitious ass pulverized, he’ll never accept the fact that he’s worthless in a fight without his toys.” “Why would I need\n",
            "to be good at punching when we have guns and shit?” Ben said, pouting as he lifted his shirt and looked at the obvious\n",
            "answer to his own question. The wound had already sealed and scabbed over with brown goo that had been produced by the\n",
            "biobots using his own bodily ingredients. His entire lower abdomen was intensely red and inflammed from the biobots’\n",
            "activity . Ben looked at his diagnostics on his Com-Palm. “Looks like he punctured my lower intestine, the\n",
            "--------------------------------------------------------------------------------\n",
            "REFERENCE #8\n",
            "--------------------------------------------------------------------------------\n",
            "Matching Score: 0.6773666143417358\n",
            "Document Source: file//Council_of_Light\n",
            "Document Name: C\n",
            "................................................................................\n",
            "Content: \n",
            "Marim and Lucia jumped into action, restraining the two baddies. When finished, Marim gave Ben the signal to turn off\n",
            "the beams. He tapped his Com-palm and they vanished. The larger of the two men closed his eyes for a moment. He opened\n",
            "them slowly and fixed them angrily on Ben. “I have grown tall as the whispered years of yellow pistons,” the gangster\n",
            "recited. “What? What the fuck does that mean?” Before anyone could answer , the man began to convulse, and a black foam\n",
            "appeared on his lips. “Oh shit no, he’s killing himself!” Ben shouted as he attempted to stand. Marim laid the man down\n",
            "and attempted to clear his airway , but it was too late. He was dead. Dax, no longer trying to rub the light from his\n",
            "eyes, let out a high pitched whine. “That’ s commitment, to be sure.” “Well shit, shove a sock in that one’s mouth\n",
            "before he tries to do the same thing.” “Wait wait wait!” yelled the second ruffian. “I’m not gonna do that, I don’t want\n",
            "to die!” Ben walked gingerly over to the man, who was more of a boy. His large eyes and hollow cheeks pleaded with Ben\n",
            "as he looked the skinny boy up and down. After waiting for a few moments to see if the boy would say anything else, Ben\n",
            "shrugged his shoulders. “Alright, I believe him. Let’s take him and get the hell out of here.” “I know where we can go!\n",
            "Here on Taris. We don’t have to take a Flash Point. If we stepped into one now, like this, we’d be flagged for sure.”\n",
            "Marim nodded. “We cannot make it back to the ship as we are now. We must regroup.” “Fine, have him take us there, just\n",
            "as long as we get out of here!” “Go out the front and make a right,” said the young ruffian. Marim led the group out the\n",
            "door, holding their prisoner in front of her like a human divining rod. He led them through alleys and back roads, until\n",
            "they finally arrived at a tall apartment building. “You’ll have to take the stairs to avoid being seen. They’re round\n",
            "the back.” “What floor are we going to?” Ben’ s face was pale and slick with sweat. “32.” “Dosh\n",
            "--------------------------------------------------------------------------------\n",
            "REFERENCE #9\n",
            "--------------------------------------------------------------------------------\n",
            "Matching Score: 0.6765634417533875\n",
            "Document Source: file//Council_of_Light\n",
            "Document Name: C\n",
            "................................................................................\n",
            "Content: \n",
            "on a beam of light. “Boom!” Ben swept his hand in a semi-circle and laughed in true delight. “That’ s how you do it!\n",
            "Excellent placement Marim.” He walked over to the warrior woman and clapped her on the shoulder . She nodded, a hint of\n",
            "a smile visible on her lips. Most of the patrons fled from the bar as Ben strode up to Alfred and put his ear to his\n",
            "mouth. “Breathing ok, pulse ok. Brightness. Can you talk?” Alfred made some throaty sounds. His lips moved ever so\n",
            "slightly , but the rest of his face and body remained completely frozen. “If I’m not mistaken, I believe you said\n",
            "something very, very rude. Great! Can you blink?” Alfred’ s eye’s moved back and forth, but his lids remained open.\n",
            "................................................................................\n",
            "Response: Ben does not defeat Silen. In fact, Silen is not mentioned in this passage.\n",
            "................................................................................\n"
          ]
        }
      ],
      "source": [
        "#It shouldn't know the answer to this\n",
        "ask(\"How does Ben defeat Silen?\")\n"
      ]
    },
    {
      "cell_type": "code",
      "execution_count": null,
      "metadata": {
        "id": "omIgCUt9j1AD"
      },
      "outputs": [],
      "source": []
    }
  ],
  "metadata": {
    "colab": {
      "provenance": [
        {
          "file_id": "1a0Xo7In7AwLTVbNwesDeug14A-I-xaQd",
          "timestamp": 1692595669487
        }
      ]
    },
    "environment": {
      "kernel": "conda-root-py",
      "name": "workbench-notebooks.m109",
      "type": "gcloud",
      "uri": "gcr.io/deeplearning-platform-release/workbench-notebooks:m109"
    },
    "kernelspec": {
      "display_name": "Python 3",
      "name": "python3"
    },
    "language_info": {
      "name": "python"
    }
  },
  "nbformat": 4,
  "nbformat_minor": 0
}